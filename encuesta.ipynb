{
 "cells": [
  {
   "cell_type": "code",
   "execution_count": 1,
   "metadata": {
    "scrolled": true
   },
   "outputs": [
    {
     "data": {
      "text/html": [
       "<div>\n",
       "<style scoped>\n",
       "    .dataframe tbody tr th:only-of-type {\n",
       "        vertical-align: middle;\n",
       "    }\n",
       "\n",
       "    .dataframe tbody tr th {\n",
       "        vertical-align: top;\n",
       "    }\n",
       "\n",
       "    .dataframe thead th {\n",
       "        text-align: right;\n",
       "    }\n",
       "</style>\n",
       "<table border=\"1\" class=\"dataframe\">\n",
       "  <thead>\n",
       "    <tr style=\"text-align: right;\">\n",
       "      <th></th>\n",
       "      <th>Nombre</th>\n",
       "      <th>Edad</th>\n",
       "      <th>Sexo</th>\n",
       "      <th>Peso</th>\n",
       "      <th>Altura</th>\n",
       "      <th>Ciudad</th>\n",
       "      <th>Hijos</th>\n",
       "      <th>Profesion</th>\n",
       "      <th>Sueldo</th>\n",
       "      <th>Seguro</th>\n",
       "    </tr>\n",
       "  </thead>\n",
       "  <tbody>\n",
       "    <tr>\n",
       "      <th>0</th>\n",
       "      <td>José</td>\n",
       "      <td>27.0</td>\n",
       "      <td>M</td>\n",
       "      <td>70.0</td>\n",
       "      <td>1.71</td>\n",
       "      <td>Cajamarca</td>\n",
       "      <td>NaN</td>\n",
       "      <td>Ingeniero</td>\n",
       "      <td>15000.0</td>\n",
       "      <td>NaN</td>\n",
       "    </tr>\n",
       "    <tr>\n",
       "      <th>1</th>\n",
       "      <td>NaN</td>\n",
       "      <td>26.0</td>\n",
       "      <td>M</td>\n",
       "      <td>72.0</td>\n",
       "      <td>1.82</td>\n",
       "      <td>Lima</td>\n",
       "      <td>NaN</td>\n",
       "      <td>Publicista</td>\n",
       "      <td>5000.0</td>\n",
       "      <td>NaN</td>\n",
       "    </tr>\n",
       "    <tr>\n",
       "      <th>2</th>\n",
       "      <td>Juana</td>\n",
       "      <td>72.0</td>\n",
       "      <td>F</td>\n",
       "      <td>76.0</td>\n",
       "      <td>1.70</td>\n",
       "      <td>Lima</td>\n",
       "      <td>NaN</td>\n",
       "      <td>Arquitecto</td>\n",
       "      <td>8500.0</td>\n",
       "      <td>NaN</td>\n",
       "    </tr>\n",
       "    <tr>\n",
       "      <th>3</th>\n",
       "      <td>Juana</td>\n",
       "      <td>72.0</td>\n",
       "      <td>F</td>\n",
       "      <td>76.0</td>\n",
       "      <td>1.70</td>\n",
       "      <td>Lima</td>\n",
       "      <td>NaN</td>\n",
       "      <td>Arquitecto</td>\n",
       "      <td>8500.0</td>\n",
       "      <td>NaN</td>\n",
       "    </tr>\n",
       "    <tr>\n",
       "      <th>4</th>\n",
       "      <td>NaN</td>\n",
       "      <td>NaN</td>\n",
       "      <td>NaN</td>\n",
       "      <td>NaN</td>\n",
       "      <td>NaN</td>\n",
       "      <td>NaN</td>\n",
       "      <td>NaN</td>\n",
       "      <td>NaN</td>\n",
       "      <td>NaN</td>\n",
       "      <td>NaN</td>\n",
       "    </tr>\n",
       "  </tbody>\n",
       "</table>\n",
       "</div>"
      ],
      "text/plain": [
       "  Nombre  Edad Sexo  Peso  Altura     Ciudad  Hijos   Profesion   Sueldo  \\\n",
       "0   José  27.0    M  70.0    1.71  Cajamarca    NaN   Ingeniero  15000.0   \n",
       "1    NaN  26.0    M  72.0    1.82       Lima    NaN  Publicista   5000.0   \n",
       "2  Juana  72.0    F  76.0    1.70       Lima    NaN  Arquitecto   8500.0   \n",
       "3  Juana  72.0    F  76.0    1.70       Lima    NaN  Arquitecto   8500.0   \n",
       "4    NaN   NaN  NaN   NaN     NaN        NaN    NaN         NaN      NaN   \n",
       "\n",
       "   Seguro  \n",
       "0     NaN  \n",
       "1     NaN  \n",
       "2     NaN  \n",
       "3     NaN  \n",
       "4     NaN  "
      ]
     },
     "execution_count": 1,
     "metadata": {},
     "output_type": "execute_result"
    }
   ],
   "source": [
    "import pandas as pd\n",
    "import numpy as np\n",
    "import matplotlib.pyplot as plt\n",
    "\n",
    "nombre=(\"José\",np.nan,\"Juana\",\"Juana\",np.nan,\"Luis\",np.nan,\"Miguel\",\"Solange\",\"Diana\",\"Hermenegilda\",\"Maritza\",\"Pedro\",\"Lorena\",\"Patty\",\n",
    "        \"Juan\",\"Raquel\",\"Paul\",\"Ramiro\",\"Esther\",\"Mauricio\",\"Leandro\",\"Vanessa\",\"Nicanor\",\"Kevin\",\"Monica\",\"Saul\",\n",
    "        \"Ximena\",\"Carlos\",\"Marcelo\",\"Samanta\",\"Walter\",\"Gianela\",\"Diana\",np.nan,\"Lucia\",\"Camila\",\"Simona\",\"Oscar\",\"Roberto\",\n",
    "       \"Ernesto\",np.nan,np.nan,\"Gregorio\",\"Humberto\",\"Filomena\",np.nan,\"Wilber\",\"Hermenegilda\",\"Adalberto\",\"Sonia\",\"Joseph\",\n",
    "        \"Cristhian\",\"Eduardo\",\"William\",\"Marco\",\"Andrea\",\"Viviana\",\"Lisbeth\",\"Giovanna\",\"Teobaldo\",\"Susan\",\"Flavia\",\n",
    "        \"Lucila\",\"Deysi\",np.nan,np.nan,\"Yanina\",\"Cinthya\",\"Segundo\",\"Angelica\",\"Cecilia\",\"Santiago\",\n",
    "        \"Priscila\",\"Helen\",\"Jhonatan\",\"Deyanira\",\"Maricielo\",\"Tatiana\",\"Silvana\",\"Pamela\",\"Rafael\",\"Alexander\",\"Cristhel\",\n",
    "       \"Jackeline\",\"Wendy\",\"Alfonso\",\"Felipe\",\"Jessica\",\"Jaime\",\"Maximiliano\",\"Madeleine\",\"Dario\",\"Mabel\",\"Violeta\",\n",
    "       \"Hernan\",\"Amparo\",\"Dilbert\",\"Roger\",np.nan,np.nan,\"Elias\",\"Pilar\",\"Eusebio\",\"Juana\",\"Armando\",\"Diana\",\n",
    "        \"Armando\",np.nan,\"Armando\")\n",
    "\n",
    "sexo=(\"M\",\"M\",\"F\",\"F\",np.nan,np.nan,\"M\",np.nan,\"F\",\"F\",\"F\",\"F\",\"M\",\"F\",\"F\",\"M\",\"F\",np.nan,\"M\",\"F\",\"M\",\"M\",\"F\",\"M\",\"M\",\"F\",\"M\",\"F\",\n",
    "      \"M\",\"M\",np.nan,\"M\",\"F\",\"F\",np.nan,\"F\",\"F\",\"F\",\"M\",\"M\",\"M\",np.nan,\"M\",\"M\",\"M\",\"F\",np.nan,\"M\",\"F\",\"M\",\"F\",\"M\",\n",
    "      \"M\",\"M\",\"M\",\"M\",\"F\",\"F\",\"F\",\"F\",\"M\",\"F\",\"F\",\"F\",\"F\",np.nan,np.nan,np.nan,np.nan,\"M\",np.nan,np.nan,np.nan,\"F\",\"F\",np.nan,\n",
    "     \"F\",\"F\",\"F\",\"F\",\"F\",\"M\",\"M\",\"F\",\"F\",\"F\",\"M\",np.nan,\"F\",np.nan,\"M\",np.nan,\"M\",\"F\",\"F\",\"M\",\"F\",np.nan,\"M\",np.nan,np.nan,\n",
    "     \"M\",np.nan,\"M\",\"F\",\"M\",\"F\",\"M\",np.nan,\"M\")\n",
    "\n",
    "edad=[27,26,72,72,np.nan,np.nan,27,np.nan,25,29,67,34,36,27,26,np.nan,29,33,42,62,38,42,34,42,28,62,np.nan,37,\n",
    "      29,26,34,24,27,26,np.nan,23,62,70,55,63,52,np.nan,np.nan,76,56,49,np.nan,62,67,70,22,32,34,27,28,31,\n",
    "      26,23,27,28,56,55,24,60,27,np.nan,np.nan,27,28,75,31,50,34,31,27,34,36,40,35,23,27,50,56,27,24,28,42,50,25,29,55,\n",
    "      68,55,45,60,45,41,31,27,np.nan,np.nan,52,60,55,72,41,29,41,np.nan,41]\n",
    "\n",
    "peso=(70,72,76,76,np.nan,np.nan,68,np.nan,69,69,80,73,np.nan,70,69,81,83,75,80,76,74,85,np.nan,79,72,81,74,82,85,69,74,\n",
    "      70,68,65,np.nan,69,80,75,91,85,92,np.nan,np.nan,90,81,78,np.nan,72,80,71,70,80,83,72,75,74,71,69,72,71,91,80,\n",
    "      69,82,70,np.nan,np.nan,70,67,70,67,72,78,71,72,68,70,69,67,69,72,78,73,85,71,70,86,70,82,86,88,92,80,75,70,80,67,82,\n",
    "      74,np.nan,np.nan,78,72,80,76,90,69,90,np.nan,90)\n",
    "\n",
    "altura=[1.71,1.82,1.7,1.7,np.nan,np.nan,1.75,np.nan,1.69,1.67,1.67,1.71,1.68,1.69,np.nan,1.67,1.68,1.75,1.72,1.68,np.nan,1.74,1.8,1.71,1.68,\n",
    "        1.76,1.70,1.68,1.70,1.68,1.81,1.72,1.68,1.69,np.nan,1.71,1.70,1.56,1.60,1.75,1.72,np.nan,np.nan,1.68,1.70,1.68,\n",
    "        np.nan,1.72,1.67,1.70,1.70,1.68,1.72,1.70,1.71,1.73,1.71,1.70,1.69,1.68,1.70,1.68,1.69,1.67,1.70,np.nan,np.nan,\n",
    "        1.72,1.74,1.68,1.67,1.79,1.8,1.7,1.82,1.90,1.76,1.78,1.72,1.73,1.75,1.68,1.69,1.71,1.72,1.68,1.73,np.nan,np.nan,1.75,\n",
    "        1.74,1.68,1.75,1.68,1.71,np.nan,np.nan,1.72,1.74,np.nan,np.nan,1.73,1.75,1.67,1.7,1.86,1.67,1.86,np.nan,1.86]\n",
    "\n",
    "ciudad=(\"Cajamarca\",\"Lima\",\"Lima\",\"Lima\",np.nan,np.nan,\"Lima\",np.nan,\"Lima\",\"Cajamarca\",\"Ica\",\"Cajamarca\",\"Arequipa\",\"Cajamarca\",\"Cajamarca\",\n",
    "        \"Arequipa\",\"Lima\",\"Ica\",\"Cerro de Pasco\",\"Juliaca\",\"Juliaca\",\"Tarapoto\",\"Cerro de Pasco\",\"Tarapoto\",\"Cajamarca\",\n",
    "        \"Huaraz\",\"Huaraz\",\"Chimbote\",\"Cerro de Pasco\",\"Cajamarca\",\"Lima\",\"Tarapoto\",\"Cajamarca\",\"Huaraz\",np.nan,\"Tarapoto\",\n",
    "       \"Cerro de Pasco\",\"Juliaca\",\"Juliaca\",\"Chimbote\",\"Chimbote\",np.nan,np.nan,\"Lima\",\"Chimbote\",\"Ica\",np.nan,\"Ica\",\"Ica\",\n",
    "       \"Arequipa\",\"Huaraz\",\"Huaraz\",\"Arequipa\",\"Huaraz\",\"Huaraz\",\"Arequipa\",\"Ica\",\"Lima\",\"Juliaca\",\"Cerro de Pasco\",\"Lima\",\n",
    "       \"Arequipa\",\"Cerro de Pasco\",\"Ica\",\"Tarapoto\",np.nan,np.nan,\"Tarapoto\",\"Tarapoto\",\"Cajamarca\",\"Cajamarca\",\n",
    "        \"Juliaca\",\"Huaraz\",\"Lima\",\"Lima\",\"Arequipa\",\"Chimbote\",\"Lima\",\"Lima\",\"Lima\",\"Ica\",\"Arequipa\",\"Tarapoto\",\"Chimbote\",\n",
    "        \"Juliaca\",\"Huaraz\",\"Huaraz\",\"Lima\",\"Lima\",\"Arequipa\",\"Lima\",\"Lima\",\"Ica\",\"Lima\",\"Lima\",\"Cerro de Pasco\",\"Cerro de Pasco\",\n",
    "       \"Juliaca\",\"Huaraz\",np.nan,np.nan,\"Lima\",\"Lima\",\"Huaraz\",\"Lima\",\"Chimbote\",\"Cajamarca\",\"Chimbote\",np.nan,\"Chimbote\")\n",
    "\n",
    "profesion=[\"Ingeniero\",\"Publicista\",\"Arquitecto\",\"Arquitecto\",np.nan,np.nan,\"Abogado\",np.nan,\"Medico\",\"Abogado\",\"Psicologo\",\n",
    "           \"Publicista\",\"Publicista\",\"Mecanico\",\"Abogado\",\"Musico\",\"Musico\",\"Medico\",\"Ingeniero\",\"Ingeniero\",\"Abogado\",\"Economista\",\"Musico\",\"Biologo\",\n",
    "           \"Ingeniero\",\"Abogado\",\"Publicista\",\"Medico\",\"Ingeniero\",\"Arquitecto\",\"Arquitecto\",\"Publicista\",\"Arquitecto\",\n",
    "           \"Psicologo\",np.nan,\"Publicista\",\"Biologo\",\"Musico\",\"Biologo\",\"Mecanico\",\"Mecanico\",np.nan,np.nan,\"Abogado\",\n",
    "           \"Economista\",\"Economista\",np.nan,\"Psicologo\",\"Psicologo\",\"Psicologo\",\"Musico\",\"Mecanico\",\"Musico\",\"Musico\",\"Musico\",\n",
    "          \"Economista\",\"Biologo\",\"Ingeniero\",\"Ingeniero\",\"Biologo\",\"Arquitecto\",\"Arquitecto\",\"Medico\",\"Ingeniero\",\"Ingeniero\",\n",
    "          np.nan,np.nan,\"Psicologo\",\"Economista\",\"Arquitecto\",\"Arquitecto\",\"Ingeniero\",\"Medico\",\"Ingeniero\",\"Ingeniero\",\n",
    "           \"Medico\",\"Biologo\",\"Biologo\",\"Arquitecto\",\"Ingeniero\",\"Arquitecto\",\"Medico\",\"Medico\",\"Ingeniero\",\"Abogado\",\"Abogado\",\n",
    "           \"Mecanico\",\"Mecanico\",\"Medico\",\"Mecanico\",\"Abogado\",\"Abogado\",\"Ingeniero\",\"Ingeniero\",\"Biologo\",\"Medico\",\"Medico\",\n",
    "           \"Ingeniero\",\"Psicologo\",\"Arquitecto\",np.nan,\"Medico\",\"Medico\",\"Musico\",\"Arquitecto\",\"Psicologo\",\"Abogado\",\n",
    "           \"Psicologo\",np.nan,\"Psicologo\"]\n",
    "\n",
    "hijos=[np.nan]*110\n",
    "\n",
    "sueldo=(15000,5000,8500,8500,np.nan,np.nan,12000,np.nan,14000,11000,5600,6000,4500,9500,12300,4200,2500,11200,5600,10500,\n",
    "        11250,2600,10200,9520,np.nan,10300,11500,9800,np.nan,1400,np.nan,11560,9650,8500,np.nan,6200,4500,3200,7500,6500,\n",
    "        4520,np.nan,np.nan,12000,12500,9850,np.nan,8500,5600,5200,2500,5600,3500,5600,3500,14200,5600,9500,9600,7800,\n",
    "        8500,7800,9580,8900,8750,np.nan,np.nan,8500,14500,np.nan,np.nan,15200,14200,9800,10230,8750,5680,5600,8000,8900,\n",
    "       5600,15000,8500,5600,6890,5600,8500,4650,np.nan,3540,np.nan,np.nan,14200,9850,4500,8500,8600,9500,8750,np.nan,5600,\n",
    "       8900,12300,5600,8500,4560,11000,4560,np.nan,4560)\n",
    "seguro=[np.nan]*110\n",
    "\n",
    "datos=pd.DataFrame({\"Nombre\":nombre,\"Edad\":edad,\"Sexo\":sexo,\"Edad\":edad,\"Peso\":peso,\"Altura\":altura,\"Ciudad\":ciudad,\n",
    "                    \"Hijos\":hijos,\"Profesion\":profesion,\"Sueldo\":sueldo,\"Seguro\":seguro})\n",
    "datos.head()"
   ]
  },
  {
   "cell_type": "code",
   "execution_count": 2,
   "metadata": {},
   "outputs": [
    {
     "data": {
      "text/plain": [
       "Nombre        10.91\n",
       "Edad          12.73\n",
       "Sexo          21.82\n",
       "Peso          12.73\n",
       "Altura        16.36\n",
       "Ciudad        10.91\n",
       "Hijos        100.00\n",
       "Profesion     10.00\n",
       "Sueldo        17.27\n",
       "Seguro       100.00\n",
       "dtype: float64"
      ]
     },
     "execution_count": 2,
     "metadata": {},
     "output_type": "execute_result"
    }
   ],
   "source": [
    "#Porcentaje de datos vacíos por columna\n",
    "filas=datos.shape[0]\n",
    "round(datos.isnull().sum()*(100/filas),2)"
   ]
  },
  {
   "cell_type": "markdown",
   "metadata": {},
   "source": [
    "#### Hay 2 columnas con 100% de datos vacíos (Hijos y Seguro). Se eliminan dichas columnas. Esto se puede hacer mediante 2 métodos .drop() - porque ya se conocen cuales son las columnas vacías - y con .dropna() - porque se eliminan las columnas vacías sin importar que se conozcan o no cuales son"
   ]
  },
  {
   "cell_type": "code",
   "execution_count": 3,
   "metadata": {},
   "outputs": [
    {
     "data": {
      "text/html": [
       "<div>\n",
       "<style scoped>\n",
       "    .dataframe tbody tr th:only-of-type {\n",
       "        vertical-align: middle;\n",
       "    }\n",
       "\n",
       "    .dataframe tbody tr th {\n",
       "        vertical-align: top;\n",
       "    }\n",
       "\n",
       "    .dataframe thead th {\n",
       "        text-align: right;\n",
       "    }\n",
       "</style>\n",
       "<table border=\"1\" class=\"dataframe\">\n",
       "  <thead>\n",
       "    <tr style=\"text-align: right;\">\n",
       "      <th></th>\n",
       "      <th>Nombre</th>\n",
       "      <th>Edad</th>\n",
       "      <th>Sexo</th>\n",
       "      <th>Peso</th>\n",
       "      <th>Altura</th>\n",
       "      <th>Ciudad</th>\n",
       "      <th>Profesion</th>\n",
       "      <th>Sueldo</th>\n",
       "    </tr>\n",
       "  </thead>\n",
       "  <tbody>\n",
       "    <tr>\n",
       "      <th>0</th>\n",
       "      <td>José</td>\n",
       "      <td>27.0</td>\n",
       "      <td>M</td>\n",
       "      <td>70.0</td>\n",
       "      <td>1.71</td>\n",
       "      <td>Cajamarca</td>\n",
       "      <td>Ingeniero</td>\n",
       "      <td>15000.0</td>\n",
       "    </tr>\n",
       "    <tr>\n",
       "      <th>1</th>\n",
       "      <td>NaN</td>\n",
       "      <td>26.0</td>\n",
       "      <td>M</td>\n",
       "      <td>72.0</td>\n",
       "      <td>1.82</td>\n",
       "      <td>Lima</td>\n",
       "      <td>Publicista</td>\n",
       "      <td>5000.0</td>\n",
       "    </tr>\n",
       "    <tr>\n",
       "      <th>2</th>\n",
       "      <td>Juana</td>\n",
       "      <td>72.0</td>\n",
       "      <td>F</td>\n",
       "      <td>76.0</td>\n",
       "      <td>1.70</td>\n",
       "      <td>Lima</td>\n",
       "      <td>Arquitecto</td>\n",
       "      <td>8500.0</td>\n",
       "    </tr>\n",
       "    <tr>\n",
       "      <th>3</th>\n",
       "      <td>Juana</td>\n",
       "      <td>72.0</td>\n",
       "      <td>F</td>\n",
       "      <td>76.0</td>\n",
       "      <td>1.70</td>\n",
       "      <td>Lima</td>\n",
       "      <td>Arquitecto</td>\n",
       "      <td>8500.0</td>\n",
       "    </tr>\n",
       "    <tr>\n",
       "      <th>4</th>\n",
       "      <td>NaN</td>\n",
       "      <td>NaN</td>\n",
       "      <td>NaN</td>\n",
       "      <td>NaN</td>\n",
       "      <td>NaN</td>\n",
       "      <td>NaN</td>\n",
       "      <td>NaN</td>\n",
       "      <td>NaN</td>\n",
       "    </tr>\n",
       "  </tbody>\n",
       "</table>\n",
       "</div>"
      ],
      "text/plain": [
       "  Nombre  Edad Sexo  Peso  Altura     Ciudad   Profesion   Sueldo\n",
       "0   José  27.0    M  70.0    1.71  Cajamarca   Ingeniero  15000.0\n",
       "1    NaN  26.0    M  72.0    1.82       Lima  Publicista   5000.0\n",
       "2  Juana  72.0    F  76.0    1.70       Lima  Arquitecto   8500.0\n",
       "3  Juana  72.0    F  76.0    1.70       Lima  Arquitecto   8500.0\n",
       "4    NaN   NaN  NaN   NaN     NaN        NaN         NaN      NaN"
      ]
     },
     "execution_count": 3,
     "metadata": {},
     "output_type": "execute_result"
    }
   ],
   "source": [
    "#1era forma: Con .drop()\n",
    "datos.drop(labels=[\"Hijos\",\"Seguro\"],axis=1,inplace=False).head()"
   ]
  },
  {
   "cell_type": "code",
   "execution_count": 4,
   "metadata": {},
   "outputs": [
    {
     "data": {
      "text/html": [
       "<div>\n",
       "<style scoped>\n",
       "    .dataframe tbody tr th:only-of-type {\n",
       "        vertical-align: middle;\n",
       "    }\n",
       "\n",
       "    .dataframe tbody tr th {\n",
       "        vertical-align: top;\n",
       "    }\n",
       "\n",
       "    .dataframe thead th {\n",
       "        text-align: right;\n",
       "    }\n",
       "</style>\n",
       "<table border=\"1\" class=\"dataframe\">\n",
       "  <thead>\n",
       "    <tr style=\"text-align: right;\">\n",
       "      <th></th>\n",
       "      <th>Nombre</th>\n",
       "      <th>Edad</th>\n",
       "      <th>Sexo</th>\n",
       "      <th>Peso</th>\n",
       "      <th>Altura</th>\n",
       "      <th>Ciudad</th>\n",
       "      <th>Profesion</th>\n",
       "      <th>Sueldo</th>\n",
       "    </tr>\n",
       "  </thead>\n",
       "  <tbody>\n",
       "    <tr>\n",
       "      <th>0</th>\n",
       "      <td>José</td>\n",
       "      <td>27.0</td>\n",
       "      <td>M</td>\n",
       "      <td>70.0</td>\n",
       "      <td>1.71</td>\n",
       "      <td>Cajamarca</td>\n",
       "      <td>Ingeniero</td>\n",
       "      <td>15000.0</td>\n",
       "    </tr>\n",
       "    <tr>\n",
       "      <th>1</th>\n",
       "      <td>NaN</td>\n",
       "      <td>26.0</td>\n",
       "      <td>M</td>\n",
       "      <td>72.0</td>\n",
       "      <td>1.82</td>\n",
       "      <td>Lima</td>\n",
       "      <td>Publicista</td>\n",
       "      <td>5000.0</td>\n",
       "    </tr>\n",
       "    <tr>\n",
       "      <th>2</th>\n",
       "      <td>Juana</td>\n",
       "      <td>72.0</td>\n",
       "      <td>F</td>\n",
       "      <td>76.0</td>\n",
       "      <td>1.70</td>\n",
       "      <td>Lima</td>\n",
       "      <td>Arquitecto</td>\n",
       "      <td>8500.0</td>\n",
       "    </tr>\n",
       "    <tr>\n",
       "      <th>3</th>\n",
       "      <td>Juana</td>\n",
       "      <td>72.0</td>\n",
       "      <td>F</td>\n",
       "      <td>76.0</td>\n",
       "      <td>1.70</td>\n",
       "      <td>Lima</td>\n",
       "      <td>Arquitecto</td>\n",
       "      <td>8500.0</td>\n",
       "    </tr>\n",
       "    <tr>\n",
       "      <th>4</th>\n",
       "      <td>NaN</td>\n",
       "      <td>NaN</td>\n",
       "      <td>NaN</td>\n",
       "      <td>NaN</td>\n",
       "      <td>NaN</td>\n",
       "      <td>NaN</td>\n",
       "      <td>NaN</td>\n",
       "      <td>NaN</td>\n",
       "    </tr>\n",
       "  </tbody>\n",
       "</table>\n",
       "</div>"
      ],
      "text/plain": [
       "  Nombre  Edad Sexo  Peso  Altura     Ciudad   Profesion   Sueldo\n",
       "0   José  27.0    M  70.0    1.71  Cajamarca   Ingeniero  15000.0\n",
       "1    NaN  26.0    M  72.0    1.82       Lima  Publicista   5000.0\n",
       "2  Juana  72.0    F  76.0    1.70       Lima  Arquitecto   8500.0\n",
       "3  Juana  72.0    F  76.0    1.70       Lima  Arquitecto   8500.0\n",
       "4    NaN   NaN  NaN   NaN     NaN        NaN         NaN      NaN"
      ]
     },
     "execution_count": 4,
     "metadata": {},
     "output_type": "execute_result"
    }
   ],
   "source": [
    "#2da forma: Usando .dropna()\n",
    "datos.dropna(axis=1,how=\"all\",subset=None,inplace=True)\n",
    "datos.head()"
   ]
  },
  {
   "cell_type": "code",
   "execution_count": 5,
   "metadata": {},
   "outputs": [
    {
     "data": {
      "text/plain": [
       "'Hay 7 registros en blanco de un total de 110 registros'"
      ]
     },
     "execution_count": 5,
     "metadata": {},
     "output_type": "execute_result"
    }
   ],
   "source": [
    "#Cantidad de registros en blanco\n",
    "reg_blanco=datos[(datos[\"Nombre\"].isnull())&(datos[\"Edad\"].isnull())&(datos[\"Sexo\"].isnull())&(datos[\"Peso\"].isnull())&\n",
    "      (datos[\"Altura\"].isnull())&(datos[\"Ciudad\"].isnull())&(datos[\"Profesion\"].isnull())&(datos[\"Sueldo\"].isnull())].shape[0]\n",
    "reg_total=datos.shape[0]\n",
    "\"Hay \"+str(reg_blanco)+\" registros en blanco de un total de \"+str(reg_total)+\" registros\""
   ]
  },
  {
   "cell_type": "code",
   "execution_count": 6,
   "metadata": {},
   "outputs": [
    {
     "data": {
      "text/plain": [
       "'Quedaron 103 registros'"
      ]
     },
     "execution_count": 6,
     "metadata": {},
     "output_type": "execute_result"
    }
   ],
   "source": [
    "#Se eliminan los registros en blanco\n",
    "datos.dropna(axis=0,how=\"all\",subset=None,inplace=True)\n",
    "\"Quedaron \"+str(datos.shape[0])+\" registros\""
   ]
  },
  {
   "cell_type": "markdown",
   "metadata": {},
   "source": [
    "#### Luego de eliminar las columnas y registros en blanco, se verifica si hay registros duplicados"
   ]
  },
  {
   "cell_type": "code",
   "execution_count": 7,
   "metadata": {},
   "outputs": [
    {
     "data": {
      "text/plain": [
       "'Hay 10 registros duplicados'"
      ]
     },
     "execution_count": 7,
     "metadata": {},
     "output_type": "execute_result"
    }
   ],
   "source": [
    "reg_dup=datos.duplicated(subset=None,keep=False).sum()\n",
    "\"Hay \"+str(reg_dup)+\" registros duplicados\""
   ]
  },
  {
   "cell_type": "code",
   "execution_count": 8,
   "metadata": {},
   "outputs": [
    {
     "data": {
      "text/html": [
       "<div>\n",
       "<style scoped>\n",
       "    .dataframe tbody tr th:only-of-type {\n",
       "        vertical-align: middle;\n",
       "    }\n",
       "\n",
       "    .dataframe tbody tr th {\n",
       "        vertical-align: top;\n",
       "    }\n",
       "\n",
       "    .dataframe thead th {\n",
       "        text-align: right;\n",
       "    }\n",
       "</style>\n",
       "<table border=\"1\" class=\"dataframe\">\n",
       "  <thead>\n",
       "    <tr style=\"text-align: right;\">\n",
       "      <th></th>\n",
       "      <th>Nombre</th>\n",
       "      <th>Edad</th>\n",
       "      <th>Sexo</th>\n",
       "      <th>Peso</th>\n",
       "      <th>Altura</th>\n",
       "      <th>Ciudad</th>\n",
       "      <th>Profesion</th>\n",
       "      <th>Sueldo</th>\n",
       "    </tr>\n",
       "  </thead>\n",
       "  <tbody>\n",
       "    <tr>\n",
       "      <th>2</th>\n",
       "      <td>Juana</td>\n",
       "      <td>72.0</td>\n",
       "      <td>F</td>\n",
       "      <td>76.0</td>\n",
       "      <td>1.70</td>\n",
       "      <td>Lima</td>\n",
       "      <td>Arquitecto</td>\n",
       "      <td>8500.0</td>\n",
       "    </tr>\n",
       "    <tr>\n",
       "      <th>3</th>\n",
       "      <td>Juana</td>\n",
       "      <td>72.0</td>\n",
       "      <td>F</td>\n",
       "      <td>76.0</td>\n",
       "      <td>1.70</td>\n",
       "      <td>Lima</td>\n",
       "      <td>Arquitecto</td>\n",
       "      <td>8500.0</td>\n",
       "    </tr>\n",
       "    <tr>\n",
       "      <th>9</th>\n",
       "      <td>Diana</td>\n",
       "      <td>29.0</td>\n",
       "      <td>F</td>\n",
       "      <td>69.0</td>\n",
       "      <td>1.67</td>\n",
       "      <td>Cajamarca</td>\n",
       "      <td>Abogado</td>\n",
       "      <td>11000.0</td>\n",
       "    </tr>\n",
       "    <tr>\n",
       "      <th>10</th>\n",
       "      <td>Hermenegilda</td>\n",
       "      <td>67.0</td>\n",
       "      <td>F</td>\n",
       "      <td>80.0</td>\n",
       "      <td>1.67</td>\n",
       "      <td>Ica</td>\n",
       "      <td>Psicologo</td>\n",
       "      <td>5600.0</td>\n",
       "    </tr>\n",
       "    <tr>\n",
       "      <th>48</th>\n",
       "      <td>Hermenegilda</td>\n",
       "      <td>67.0</td>\n",
       "      <td>F</td>\n",
       "      <td>80.0</td>\n",
       "      <td>1.67</td>\n",
       "      <td>Ica</td>\n",
       "      <td>Psicologo</td>\n",
       "      <td>5600.0</td>\n",
       "    </tr>\n",
       "    <tr>\n",
       "      <th>104</th>\n",
       "      <td>Juana</td>\n",
       "      <td>72.0</td>\n",
       "      <td>F</td>\n",
       "      <td>76.0</td>\n",
       "      <td>1.70</td>\n",
       "      <td>Lima</td>\n",
       "      <td>Arquitecto</td>\n",
       "      <td>8500.0</td>\n",
       "    </tr>\n",
       "    <tr>\n",
       "      <th>105</th>\n",
       "      <td>Armando</td>\n",
       "      <td>41.0</td>\n",
       "      <td>M</td>\n",
       "      <td>90.0</td>\n",
       "      <td>1.86</td>\n",
       "      <td>Chimbote</td>\n",
       "      <td>Psicologo</td>\n",
       "      <td>4560.0</td>\n",
       "    </tr>\n",
       "    <tr>\n",
       "      <th>106</th>\n",
       "      <td>Diana</td>\n",
       "      <td>29.0</td>\n",
       "      <td>F</td>\n",
       "      <td>69.0</td>\n",
       "      <td>1.67</td>\n",
       "      <td>Cajamarca</td>\n",
       "      <td>Abogado</td>\n",
       "      <td>11000.0</td>\n",
       "    </tr>\n",
       "    <tr>\n",
       "      <th>107</th>\n",
       "      <td>Armando</td>\n",
       "      <td>41.0</td>\n",
       "      <td>M</td>\n",
       "      <td>90.0</td>\n",
       "      <td>1.86</td>\n",
       "      <td>Chimbote</td>\n",
       "      <td>Psicologo</td>\n",
       "      <td>4560.0</td>\n",
       "    </tr>\n",
       "    <tr>\n",
       "      <th>109</th>\n",
       "      <td>Armando</td>\n",
       "      <td>41.0</td>\n",
       "      <td>M</td>\n",
       "      <td>90.0</td>\n",
       "      <td>1.86</td>\n",
       "      <td>Chimbote</td>\n",
       "      <td>Psicologo</td>\n",
       "      <td>4560.0</td>\n",
       "    </tr>\n",
       "  </tbody>\n",
       "</table>\n",
       "</div>"
      ],
      "text/plain": [
       "           Nombre  Edad Sexo  Peso  Altura     Ciudad   Profesion   Sueldo\n",
       "2           Juana  72.0    F  76.0    1.70       Lima  Arquitecto   8500.0\n",
       "3           Juana  72.0    F  76.0    1.70       Lima  Arquitecto   8500.0\n",
       "9           Diana  29.0    F  69.0    1.67  Cajamarca     Abogado  11000.0\n",
       "10   Hermenegilda  67.0    F  80.0    1.67        Ica   Psicologo   5600.0\n",
       "48   Hermenegilda  67.0    F  80.0    1.67        Ica   Psicologo   5600.0\n",
       "104         Juana  72.0    F  76.0    1.70       Lima  Arquitecto   8500.0\n",
       "105       Armando  41.0    M  90.0    1.86   Chimbote   Psicologo   4560.0\n",
       "106         Diana  29.0    F  69.0    1.67  Cajamarca     Abogado  11000.0\n",
       "107       Armando  41.0    M  90.0    1.86   Chimbote   Psicologo   4560.0\n",
       "109       Armando  41.0    M  90.0    1.86   Chimbote   Psicologo   4560.0"
      ]
     },
     "execution_count": 8,
     "metadata": {},
     "output_type": "execute_result"
    }
   ],
   "source": [
    "#Se identifican cuales son estos registros duplicados\n",
    "datos[(datos.duplicated(subset=None,keep=False))] \n",
    "# keep=False identifica como duplicados a todos los registros repetidos"
   ]
  },
  {
   "cell_type": "markdown",
   "metadata": {},
   "source": [
    "#### Hay 2 formas de eliminar los registros repetidos: 1. Identificando cuales son estos registros repetidos y usar el método .drop() eliminando las filas pasando como argumento los indices y 2. Usando el método drop_duplicates() de forma directa"
   ]
  },
  {
   "cell_type": "code",
   "execution_count": 9,
   "metadata": {},
   "outputs": [
    {
     "data": {
      "text/plain": [
       "(97, 8)"
      ]
     },
     "execution_count": 9,
     "metadata": {},
     "output_type": "execute_result"
    }
   ],
   "source": [
    "datos.drop_duplicates(subset=None,keep=\"first\",inplace=False).shape"
   ]
  },
  {
   "cell_type": "code",
   "execution_count": 10,
   "metadata": {},
   "outputs": [
    {
     "data": {
      "text/plain": [
       "(97, 8)"
      ]
     },
     "execution_count": 10,
     "metadata": {},
     "output_type": "execute_result"
    }
   ],
   "source": [
    "datos.drop(labels=[3,48,104,106,107,109],axis=0,inplace=True) \n",
    "datos.shape"
   ]
  },
  {
   "cell_type": "markdown",
   "metadata": {},
   "source": [
    "#### Una vez eliminados los registros y columnas en blanco como también los registros duplicados, se evalúa la cantidad de datos vacíos por columna que aún quedan"
   ]
  },
  {
   "cell_type": "code",
   "execution_count": 11,
   "metadata": {},
   "outputs": [
    {
     "data": {
      "text/plain": [
       "Nombre        5.15\n",
       "Edad          7.22\n",
       "Sexo         17.53\n",
       "Peso          7.22\n",
       "Altura       11.34\n",
       "Ciudad        5.15\n",
       "Profesion     4.12\n",
       "Sueldo       12.37\n",
       "dtype: float64"
      ]
     },
     "execution_count": 11,
     "metadata": {},
     "output_type": "execute_result"
    }
   ],
   "source": [
    "rows=datos.shape[0]\n",
    "round(datos.isnull().sum()*(100/rows),2)"
   ]
  },
  {
   "cell_type": "code",
   "execution_count": 12,
   "metadata": {},
   "outputs": [
    {
     "data": {
      "text/html": [
       "<div>\n",
       "<style scoped>\n",
       "    .dataframe tbody tr th:only-of-type {\n",
       "        vertical-align: middle;\n",
       "    }\n",
       "\n",
       "    .dataframe tbody tr th {\n",
       "        vertical-align: top;\n",
       "    }\n",
       "\n",
       "    .dataframe thead th {\n",
       "        text-align: right;\n",
       "    }\n",
       "</style>\n",
       "<table border=\"1\" class=\"dataframe\">\n",
       "  <thead>\n",
       "    <tr style=\"text-align: right;\">\n",
       "      <th></th>\n",
       "      <th>Nombre</th>\n",
       "      <th>Edad</th>\n",
       "      <th>Sexo</th>\n",
       "      <th>Peso</th>\n",
       "      <th>Altura</th>\n",
       "      <th>Ciudad</th>\n",
       "      <th>Profesion</th>\n",
       "      <th>Sueldo</th>\n",
       "    </tr>\n",
       "  </thead>\n",
       "  <tbody>\n",
       "    <tr>\n",
       "      <th>1</th>\n",
       "      <td>NaN</td>\n",
       "      <td>26.0</td>\n",
       "      <td>M</td>\n",
       "      <td>72.0</td>\n",
       "      <td>1.82</td>\n",
       "      <td>Lima</td>\n",
       "      <td>Publicista</td>\n",
       "      <td>5000.0</td>\n",
       "    </tr>\n",
       "    <tr>\n",
       "      <th>6</th>\n",
       "      <td>NaN</td>\n",
       "      <td>27.0</td>\n",
       "      <td>M</td>\n",
       "      <td>68.0</td>\n",
       "      <td>1.75</td>\n",
       "      <td>Lima</td>\n",
       "      <td>Abogado</td>\n",
       "      <td>12000.0</td>\n",
       "    </tr>\n",
       "    <tr>\n",
       "      <th>42</th>\n",
       "      <td>NaN</td>\n",
       "      <td>NaN</td>\n",
       "      <td>M</td>\n",
       "      <td>NaN</td>\n",
       "      <td>NaN</td>\n",
       "      <td>NaN</td>\n",
       "      <td>NaN</td>\n",
       "      <td>NaN</td>\n",
       "    </tr>\n",
       "    <tr>\n",
       "      <th>99</th>\n",
       "      <td>NaN</td>\n",
       "      <td>NaN</td>\n",
       "      <td>NaN</td>\n",
       "      <td>NaN</td>\n",
       "      <td>NaN</td>\n",
       "      <td>NaN</td>\n",
       "      <td>Arquitecto</td>\n",
       "      <td>NaN</td>\n",
       "    </tr>\n",
       "    <tr>\n",
       "      <th>100</th>\n",
       "      <td>NaN</td>\n",
       "      <td>NaN</td>\n",
       "      <td>NaN</td>\n",
       "      <td>NaN</td>\n",
       "      <td>NaN</td>\n",
       "      <td>NaN</td>\n",
       "      <td>NaN</td>\n",
       "      <td>5600.0</td>\n",
       "    </tr>\n",
       "  </tbody>\n",
       "</table>\n",
       "</div>"
      ],
      "text/plain": [
       "    Nombre  Edad Sexo  Peso  Altura Ciudad   Profesion   Sueldo\n",
       "1      NaN  26.0    M  72.0    1.82   Lima  Publicista   5000.0\n",
       "6      NaN  27.0    M  68.0    1.75   Lima     Abogado  12000.0\n",
       "42     NaN   NaN    M   NaN     NaN    NaN         NaN      NaN\n",
       "99     NaN   NaN  NaN   NaN     NaN    NaN  Arquitecto      NaN\n",
       "100    NaN   NaN  NaN   NaN     NaN    NaN         NaN   5600.0"
      ]
     },
     "execution_count": 12,
     "metadata": {},
     "output_type": "execute_result"
    }
   ],
   "source": [
    "datos[(datos[\"Nombre\"].isnull())]"
   ]
  },
  {
   "cell_type": "markdown",
   "metadata": {},
   "source": [
    "#### Se eliminan los registros sin nombre"
   ]
  },
  {
   "cell_type": "code",
   "execution_count": 13,
   "metadata": {},
   "outputs": [
    {
     "data": {
      "text/html": [
       "<div>\n",
       "<style scoped>\n",
       "    .dataframe tbody tr th:only-of-type {\n",
       "        vertical-align: middle;\n",
       "    }\n",
       "\n",
       "    .dataframe tbody tr th {\n",
       "        vertical-align: top;\n",
       "    }\n",
       "\n",
       "    .dataframe thead th {\n",
       "        text-align: right;\n",
       "    }\n",
       "</style>\n",
       "<table border=\"1\" class=\"dataframe\">\n",
       "  <thead>\n",
       "    <tr style=\"text-align: right;\">\n",
       "      <th></th>\n",
       "      <th>Nombre</th>\n",
       "      <th>Edad</th>\n",
       "      <th>Sexo</th>\n",
       "      <th>Peso</th>\n",
       "      <th>Altura</th>\n",
       "      <th>Ciudad</th>\n",
       "      <th>Profesion</th>\n",
       "      <th>Sueldo</th>\n",
       "    </tr>\n",
       "  </thead>\n",
       "  <tbody>\n",
       "    <tr>\n",
       "      <th>0</th>\n",
       "      <td>José</td>\n",
       "      <td>27.0</td>\n",
       "      <td>M</td>\n",
       "      <td>70.0</td>\n",
       "      <td>1.71</td>\n",
       "      <td>Cajamarca</td>\n",
       "      <td>Ingeniero</td>\n",
       "      <td>15000.0</td>\n",
       "    </tr>\n",
       "    <tr>\n",
       "      <th>2</th>\n",
       "      <td>Juana</td>\n",
       "      <td>72.0</td>\n",
       "      <td>F</td>\n",
       "      <td>76.0</td>\n",
       "      <td>1.70</td>\n",
       "      <td>Lima</td>\n",
       "      <td>Arquitecto</td>\n",
       "      <td>8500.0</td>\n",
       "    </tr>\n",
       "    <tr>\n",
       "      <th>5</th>\n",
       "      <td>Luis</td>\n",
       "      <td>NaN</td>\n",
       "      <td>NaN</td>\n",
       "      <td>NaN</td>\n",
       "      <td>NaN</td>\n",
       "      <td>NaN</td>\n",
       "      <td>NaN</td>\n",
       "      <td>NaN</td>\n",
       "    </tr>\n",
       "    <tr>\n",
       "      <th>7</th>\n",
       "      <td>Miguel</td>\n",
       "      <td>NaN</td>\n",
       "      <td>NaN</td>\n",
       "      <td>NaN</td>\n",
       "      <td>NaN</td>\n",
       "      <td>NaN</td>\n",
       "      <td>NaN</td>\n",
       "      <td>NaN</td>\n",
       "    </tr>\n",
       "    <tr>\n",
       "      <th>8</th>\n",
       "      <td>Solange</td>\n",
       "      <td>25.0</td>\n",
       "      <td>F</td>\n",
       "      <td>69.0</td>\n",
       "      <td>1.69</td>\n",
       "      <td>Lima</td>\n",
       "      <td>Medico</td>\n",
       "      <td>14000.0</td>\n",
       "    </tr>\n",
       "  </tbody>\n",
       "</table>\n",
       "</div>"
      ],
      "text/plain": [
       "    Nombre  Edad Sexo  Peso  Altura     Ciudad   Profesion   Sueldo\n",
       "0     José  27.0    M  70.0    1.71  Cajamarca   Ingeniero  15000.0\n",
       "2    Juana  72.0    F  76.0    1.70       Lima  Arquitecto   8500.0\n",
       "5     Luis   NaN  NaN   NaN     NaN        NaN         NaN      NaN\n",
       "7   Miguel   NaN  NaN   NaN     NaN        NaN         NaN      NaN\n",
       "8  Solange  25.0    F  69.0    1.69       Lima      Medico  14000.0"
      ]
     },
     "execution_count": 13,
     "metadata": {},
     "output_type": "execute_result"
    }
   ],
   "source": [
    "datos.dropna(axis=0,how=\"all\",subset=[\"Nombre\"],inplace=True)\n",
    "datos.head()"
   ]
  },
  {
   "cell_type": "code",
   "execution_count": 14,
   "metadata": {},
   "outputs": [
    {
     "data": {
      "text/html": [
       "<div>\n",
       "<style scoped>\n",
       "    .dataframe tbody tr th:only-of-type {\n",
       "        vertical-align: middle;\n",
       "    }\n",
       "\n",
       "    .dataframe tbody tr th {\n",
       "        vertical-align: top;\n",
       "    }\n",
       "\n",
       "    .dataframe thead th {\n",
       "        text-align: right;\n",
       "    }\n",
       "</style>\n",
       "<table border=\"1\" class=\"dataframe\">\n",
       "  <thead>\n",
       "    <tr style=\"text-align: right;\">\n",
       "      <th></th>\n",
       "      <th>Nombre</th>\n",
       "      <th>Edad</th>\n",
       "      <th>Sexo</th>\n",
       "      <th>Peso</th>\n",
       "      <th>Altura</th>\n",
       "      <th>Ciudad</th>\n",
       "      <th>Profesion</th>\n",
       "      <th>Sueldo</th>\n",
       "    </tr>\n",
       "  </thead>\n",
       "  <tbody>\n",
       "    <tr>\n",
       "      <th>0</th>\n",
       "      <td>José</td>\n",
       "      <td>27.0</td>\n",
       "      <td>M</td>\n",
       "      <td>70.0</td>\n",
       "      <td>1.71</td>\n",
       "      <td>Cajamarca</td>\n",
       "      <td>Ingeniero</td>\n",
       "      <td>15000.0</td>\n",
       "    </tr>\n",
       "    <tr>\n",
       "      <th>2</th>\n",
       "      <td>Juana</td>\n",
       "      <td>72.0</td>\n",
       "      <td>F</td>\n",
       "      <td>76.0</td>\n",
       "      <td>1.70</td>\n",
       "      <td>Lima</td>\n",
       "      <td>Arquitecto</td>\n",
       "      <td>8500.0</td>\n",
       "    </tr>\n",
       "    <tr>\n",
       "      <th>8</th>\n",
       "      <td>Solange</td>\n",
       "      <td>25.0</td>\n",
       "      <td>F</td>\n",
       "      <td>69.0</td>\n",
       "      <td>1.69</td>\n",
       "      <td>Lima</td>\n",
       "      <td>Medico</td>\n",
       "      <td>14000.0</td>\n",
       "    </tr>\n",
       "    <tr>\n",
       "      <th>9</th>\n",
       "      <td>Diana</td>\n",
       "      <td>29.0</td>\n",
       "      <td>F</td>\n",
       "      <td>69.0</td>\n",
       "      <td>1.67</td>\n",
       "      <td>Cajamarca</td>\n",
       "      <td>Abogado</td>\n",
       "      <td>11000.0</td>\n",
       "    </tr>\n",
       "    <tr>\n",
       "      <th>10</th>\n",
       "      <td>Hermenegilda</td>\n",
       "      <td>67.0</td>\n",
       "      <td>F</td>\n",
       "      <td>80.0</td>\n",
       "      <td>1.67</td>\n",
       "      <td>Ica</td>\n",
       "      <td>Psicologo</td>\n",
       "      <td>5600.0</td>\n",
       "    </tr>\n",
       "  </tbody>\n",
       "</table>\n",
       "</div>"
      ],
      "text/plain": [
       "          Nombre  Edad Sexo  Peso  Altura     Ciudad   Profesion   Sueldo\n",
       "0           José  27.0    M  70.0    1.71  Cajamarca   Ingeniero  15000.0\n",
       "2          Juana  72.0    F  76.0    1.70       Lima  Arquitecto   8500.0\n",
       "8        Solange  25.0    F  69.0    1.69       Lima      Medico  14000.0\n",
       "9          Diana  29.0    F  69.0    1.67  Cajamarca     Abogado  11000.0\n",
       "10  Hermenegilda  67.0    F  80.0    1.67        Ica   Psicologo   5600.0"
      ]
     },
     "execution_count": 14,
     "metadata": {},
     "output_type": "execute_result"
    }
   ],
   "source": [
    "datos.dropna(axis=0,how=\"all\",subset=[\"Edad\",\"Sexo\",\"Peso\",\"Altura\",\"Ciudad\",\"Profesion\",\"Sueldo\"],inplace=True)\n",
    "datos.head()"
   ]
  },
  {
   "cell_type": "code",
   "execution_count": 15,
   "metadata": {},
   "outputs": [
    {
     "data": {
      "text/plain": [
       "Nombre        0.00\n",
       "Edad          2.22\n",
       "Sexo         14.44\n",
       "Peso          2.22\n",
       "Altura        6.67\n",
       "Ciudad        0.00\n",
       "Profesion     0.00\n",
       "Sueldo        8.89\n",
       "dtype: float64"
      ]
     },
     "execution_count": 15,
     "metadata": {},
     "output_type": "execute_result"
    }
   ],
   "source": [
    "rows=datos.shape[0]\n",
    "round(datos.isnull().sum()*(100/rows),2)"
   ]
  },
  {
   "cell_type": "code",
   "execution_count": 16,
   "metadata": {},
   "outputs": [
    {
     "data": {
      "text/html": [
       "<div>\n",
       "<style scoped>\n",
       "    .dataframe tbody tr th:only-of-type {\n",
       "        vertical-align: middle;\n",
       "    }\n",
       "\n",
       "    .dataframe tbody tr th {\n",
       "        vertical-align: top;\n",
       "    }\n",
       "\n",
       "    .dataframe thead th {\n",
       "        text-align: right;\n",
       "    }\n",
       "</style>\n",
       "<table border=\"1\" class=\"dataframe\">\n",
       "  <thead>\n",
       "    <tr style=\"text-align: right;\">\n",
       "      <th></th>\n",
       "      <th>Nombre</th>\n",
       "      <th>Edad</th>\n",
       "      <th>Sexo</th>\n",
       "      <th>Peso</th>\n",
       "      <th>Altura</th>\n",
       "      <th>Ciudad</th>\n",
       "      <th>Profesion</th>\n",
       "      <th>Sueldo</th>\n",
       "    </tr>\n",
       "  </thead>\n",
       "  <tbody>\n",
       "    <tr>\n",
       "      <th>17</th>\n",
       "      <td>Paul</td>\n",
       "      <td>33.0</td>\n",
       "      <td>M</td>\n",
       "      <td>75.0</td>\n",
       "      <td>1.75</td>\n",
       "      <td>Ica</td>\n",
       "      <td>Medico</td>\n",
       "      <td>11200.0</td>\n",
       "    </tr>\n",
       "    <tr>\n",
       "      <th>30</th>\n",
       "      <td>Samanta</td>\n",
       "      <td>34.0</td>\n",
       "      <td>F</td>\n",
       "      <td>74.0</td>\n",
       "      <td>1.81</td>\n",
       "      <td>Lima</td>\n",
       "      <td>Arquitecto</td>\n",
       "      <td>NaN</td>\n",
       "    </tr>\n",
       "    <tr>\n",
       "      <th>67</th>\n",
       "      <td>Yanina</td>\n",
       "      <td>27.0</td>\n",
       "      <td>F</td>\n",
       "      <td>70.0</td>\n",
       "      <td>1.72</td>\n",
       "      <td>Tarapoto</td>\n",
       "      <td>Psicologo</td>\n",
       "      <td>8500.0</td>\n",
       "    </tr>\n",
       "    <tr>\n",
       "      <th>68</th>\n",
       "      <td>Cinthya</td>\n",
       "      <td>28.0</td>\n",
       "      <td>F</td>\n",
       "      <td>67.0</td>\n",
       "      <td>1.74</td>\n",
       "      <td>Tarapoto</td>\n",
       "      <td>Economista</td>\n",
       "      <td>14500.0</td>\n",
       "    </tr>\n",
       "    <tr>\n",
       "      <th>70</th>\n",
       "      <td>Angelica</td>\n",
       "      <td>31.0</td>\n",
       "      <td>F</td>\n",
       "      <td>67.0</td>\n",
       "      <td>1.67</td>\n",
       "      <td>Cajamarca</td>\n",
       "      <td>Arquitecto</td>\n",
       "      <td>NaN</td>\n",
       "    </tr>\n",
       "    <tr>\n",
       "      <th>71</th>\n",
       "      <td>Cecilia</td>\n",
       "      <td>50.0</td>\n",
       "      <td>F</td>\n",
       "      <td>72.0</td>\n",
       "      <td>1.79</td>\n",
       "      <td>Juliaca</td>\n",
       "      <td>Ingeniero</td>\n",
       "      <td>15200.0</td>\n",
       "    </tr>\n",
       "    <tr>\n",
       "      <th>72</th>\n",
       "      <td>Santiago</td>\n",
       "      <td>34.0</td>\n",
       "      <td>M</td>\n",
       "      <td>78.0</td>\n",
       "      <td>1.80</td>\n",
       "      <td>Huaraz</td>\n",
       "      <td>Medico</td>\n",
       "      <td>14200.0</td>\n",
       "    </tr>\n",
       "    <tr>\n",
       "      <th>75</th>\n",
       "      <td>Jhonatan</td>\n",
       "      <td>34.0</td>\n",
       "      <td>M</td>\n",
       "      <td>68.0</td>\n",
       "      <td>1.90</td>\n",
       "      <td>Arequipa</td>\n",
       "      <td>Medico</td>\n",
       "      <td>8750.0</td>\n",
       "    </tr>\n",
       "    <tr>\n",
       "      <th>87</th>\n",
       "      <td>Felipe</td>\n",
       "      <td>50.0</td>\n",
       "      <td>M</td>\n",
       "      <td>70.0</td>\n",
       "      <td>NaN</td>\n",
       "      <td>Lima</td>\n",
       "      <td>Mecanico</td>\n",
       "      <td>4650.0</td>\n",
       "    </tr>\n",
       "    <tr>\n",
       "      <th>89</th>\n",
       "      <td>Jaime</td>\n",
       "      <td>29.0</td>\n",
       "      <td>M</td>\n",
       "      <td>86.0</td>\n",
       "      <td>1.75</td>\n",
       "      <td>Arequipa</td>\n",
       "      <td>Mecanico</td>\n",
       "      <td>3540.0</td>\n",
       "    </tr>\n",
       "    <tr>\n",
       "      <th>91</th>\n",
       "      <td>Madeleine</td>\n",
       "      <td>68.0</td>\n",
       "      <td>F</td>\n",
       "      <td>92.0</td>\n",
       "      <td>1.68</td>\n",
       "      <td>Lima</td>\n",
       "      <td>Abogado</td>\n",
       "      <td>NaN</td>\n",
       "    </tr>\n",
       "    <tr>\n",
       "      <th>97</th>\n",
       "      <td>Dilbert</td>\n",
       "      <td>31.0</td>\n",
       "      <td>M</td>\n",
       "      <td>82.0</td>\n",
       "      <td>1.72</td>\n",
       "      <td>Juliaca</td>\n",
       "      <td>Ingeniero</td>\n",
       "      <td>9500.0</td>\n",
       "    </tr>\n",
       "    <tr>\n",
       "      <th>102</th>\n",
       "      <td>Pilar</td>\n",
       "      <td>60.0</td>\n",
       "      <td>F</td>\n",
       "      <td>72.0</td>\n",
       "      <td>1.75</td>\n",
       "      <td>Lima</td>\n",
       "      <td>Medico</td>\n",
       "      <td>12300.0</td>\n",
       "    </tr>\n",
       "  </tbody>\n",
       "</table>\n",
       "</div>"
      ],
      "text/plain": [
       "        Nombre  Edad Sexo  Peso  Altura     Ciudad   Profesion   Sueldo\n",
       "17        Paul  33.0    M  75.0    1.75        Ica      Medico  11200.0\n",
       "30     Samanta  34.0    F  74.0    1.81       Lima  Arquitecto      NaN\n",
       "67      Yanina  27.0    F  70.0    1.72   Tarapoto   Psicologo   8500.0\n",
       "68     Cinthya  28.0    F  67.0    1.74   Tarapoto  Economista  14500.0\n",
       "70    Angelica  31.0    F  67.0    1.67  Cajamarca  Arquitecto      NaN\n",
       "71     Cecilia  50.0    F  72.0    1.79    Juliaca   Ingeniero  15200.0\n",
       "72    Santiago  34.0    M  78.0    1.80     Huaraz      Medico  14200.0\n",
       "75    Jhonatan  34.0    M  68.0    1.90   Arequipa      Medico   8750.0\n",
       "87      Felipe  50.0    M  70.0     NaN       Lima    Mecanico   4650.0\n",
       "89       Jaime  29.0    M  86.0    1.75   Arequipa    Mecanico   3540.0\n",
       "91   Madeleine  68.0    F  92.0    1.68       Lima     Abogado      NaN\n",
       "97     Dilbert  31.0    M  82.0    1.72    Juliaca   Ingeniero   9500.0\n",
       "102      Pilar  60.0    F  72.0    1.75       Lima      Medico  12300.0"
      ]
     },
     "execution_count": 16,
     "metadata": {},
     "output_type": "execute_result"
    }
   ],
   "source": [
    "datos.loc[(datos[\"Sexo\"].isnull()),\"Sexo\"]=[[\"M\"],[\"F\"],[\"F\"],[\"F\"],[\"F\"],[\"F\"],[\"M\"],[\"M\"],[\"M\"],[\"M\"],[\"F\"],[\"M\"],[\"F\"]]\n",
    "datos.loc[[17,30,67,68,70,71,72,75,87,89,91,97,102],:]"
   ]
  },
  {
   "cell_type": "markdown",
   "metadata": {},
   "source": [
    "#### ¿Cuáles son los registros sin edad?"
   ]
  },
  {
   "cell_type": "code",
   "execution_count": 17,
   "metadata": {},
   "outputs": [
    {
     "data": {
      "text/html": [
       "<div>\n",
       "<style scoped>\n",
       "    .dataframe tbody tr th:only-of-type {\n",
       "        vertical-align: middle;\n",
       "    }\n",
       "\n",
       "    .dataframe tbody tr th {\n",
       "        vertical-align: top;\n",
       "    }\n",
       "\n",
       "    .dataframe thead th {\n",
       "        text-align: right;\n",
       "    }\n",
       "</style>\n",
       "<table border=\"1\" class=\"dataframe\">\n",
       "  <thead>\n",
       "    <tr style=\"text-align: right;\">\n",
       "      <th></th>\n",
       "      <th>Nombre</th>\n",
       "      <th>Edad</th>\n",
       "      <th>Sexo</th>\n",
       "      <th>Peso</th>\n",
       "      <th>Altura</th>\n",
       "      <th>Ciudad</th>\n",
       "      <th>Profesion</th>\n",
       "      <th>Sueldo</th>\n",
       "    </tr>\n",
       "  </thead>\n",
       "  <tbody>\n",
       "    <tr>\n",
       "      <th>15</th>\n",
       "      <td>Juan</td>\n",
       "      <td>NaN</td>\n",
       "      <td>M</td>\n",
       "      <td>81.0</td>\n",
       "      <td>1.67</td>\n",
       "      <td>Arequipa</td>\n",
       "      <td>Musico</td>\n",
       "      <td>4200.0</td>\n",
       "    </tr>\n",
       "    <tr>\n",
       "      <th>26</th>\n",
       "      <td>Saul</td>\n",
       "      <td>NaN</td>\n",
       "      <td>M</td>\n",
       "      <td>74.0</td>\n",
       "      <td>1.70</td>\n",
       "      <td>Huaraz</td>\n",
       "      <td>Publicista</td>\n",
       "      <td>11500.0</td>\n",
       "    </tr>\n",
       "  </tbody>\n",
       "</table>\n",
       "</div>"
      ],
      "text/plain": [
       "   Nombre  Edad Sexo  Peso  Altura    Ciudad   Profesion   Sueldo\n",
       "15   Juan   NaN    M  81.0    1.67  Arequipa      Musico   4200.0\n",
       "26   Saul   NaN    M  74.0    1.70    Huaraz  Publicista  11500.0"
      ]
     },
     "execution_count": 17,
     "metadata": {},
     "output_type": "execute_result"
    }
   ],
   "source": [
    "datos[(datos[\"Edad\"].isnull())]"
   ]
  },
  {
   "cell_type": "code",
   "execution_count": 18,
   "metadata": {},
   "outputs": [
    {
     "data": {
      "text/plain": [
       "Text(0.5, 1.0, 'Edad de los hombres')"
      ]
     },
     "execution_count": 18,
     "metadata": {},
     "output_type": "execute_result"
    },
    {
     "data": {
      "image/png": "[encoded data removed]",
      "text/plain": [
       "<Figure size 432x288 with 1 Axes>"
      ]
     },
     "metadata": {
      "needs_background": "light"
     },
     "output_type": "display_data"
    }
   ],
   "source": [
    "edad_h=datos[(datos[\"Edad\"].notnull())&(datos[\"Sexo\"]==\"M\")][\"Edad\"]\n",
    "plt.boxplot(x=[edad_h],labels=[\"Hombres\"],whis=1.5,vert=True)\n",
    "plt.ylabel(\"Edad (años)\")\n",
    "plt.title(\"Edad de los hombres\")"
   ]
  },
  {
   "cell_type": "code",
   "execution_count": 19,
   "metadata": {},
   "outputs": [
    {
     "data": {
      "text/plain": [
       "42.0"
      ]
     },
     "execution_count": 19,
     "metadata": {},
     "output_type": "execute_result"
    }
   ],
   "source": [
    "edad_hx=round(datos[(datos[\"Sexo\"]==\"M\")&(datos[\"Edad\"].notnull())][\"Edad\"].median(),0)\n",
    "edad_hx"
   ]
  },
  {
   "cell_type": "code",
   "execution_count": 20,
   "metadata": {},
   "outputs": [
    {
     "data": {
      "text/html": [
       "<div>\n",
       "<style scoped>\n",
       "    .dataframe tbody tr th:only-of-type {\n",
       "        vertical-align: middle;\n",
       "    }\n",
       "\n",
       "    .dataframe tbody tr th {\n",
       "        vertical-align: top;\n",
       "    }\n",
       "\n",
       "    .dataframe thead th {\n",
       "        text-align: right;\n",
       "    }\n",
       "</style>\n",
       "<table border=\"1\" class=\"dataframe\">\n",
       "  <thead>\n",
       "    <tr style=\"text-align: right;\">\n",
       "      <th></th>\n",
       "      <th>Nombre</th>\n",
       "      <th>Edad</th>\n",
       "      <th>Sexo</th>\n",
       "      <th>Peso</th>\n",
       "      <th>Altura</th>\n",
       "      <th>Ciudad</th>\n",
       "      <th>Profesion</th>\n",
       "      <th>Sueldo</th>\n",
       "    </tr>\n",
       "  </thead>\n",
       "  <tbody>\n",
       "    <tr>\n",
       "      <th>15</th>\n",
       "      <td>Juan</td>\n",
       "      <td>42.0</td>\n",
       "      <td>M</td>\n",
       "      <td>81.0</td>\n",
       "      <td>1.67</td>\n",
       "      <td>Arequipa</td>\n",
       "      <td>Musico</td>\n",
       "      <td>4200.0</td>\n",
       "    </tr>\n",
       "    <tr>\n",
       "      <th>26</th>\n",
       "      <td>Saul</td>\n",
       "      <td>42.0</td>\n",
       "      <td>M</td>\n",
       "      <td>74.0</td>\n",
       "      <td>1.70</td>\n",
       "      <td>Huaraz</td>\n",
       "      <td>Publicista</td>\n",
       "      <td>11500.0</td>\n",
       "    </tr>\n",
       "  </tbody>\n",
       "</table>\n",
       "</div>"
      ],
      "text/plain": [
       "   Nombre  Edad Sexo  Peso  Altura    Ciudad   Profesion   Sueldo\n",
       "15   Juan  42.0    M  81.0    1.67  Arequipa      Musico   4200.0\n",
       "26   Saul  42.0    M  74.0    1.70    Huaraz  Publicista  11500.0"
      ]
     },
     "execution_count": 20,
     "metadata": {},
     "output_type": "execute_result"
    }
   ],
   "source": [
    "datos.loc[(datos[\"Edad\"].isnull()),\"Edad\"]=[[edad_hx]]*2\n",
    "datos.loc[[15,26],:]"
   ]
  },
  {
   "cell_type": "code",
   "execution_count": 21,
   "metadata": {},
   "outputs": [
    {
     "data": {
      "text/plain": [
       "Nombre       0\n",
       "Edad         0\n",
       "Sexo         0\n",
       "Peso         2\n",
       "Altura       6\n",
       "Ciudad       0\n",
       "Profesion    0\n",
       "Sueldo       8\n",
       "dtype: int64"
      ]
     },
     "execution_count": 21,
     "metadata": {},
     "output_type": "execute_result"
    }
   ],
   "source": [
    "datos.isnull().sum()"
   ]
  },
  {
   "cell_type": "markdown",
   "metadata": {},
   "source": [
    "#### ¿Cuales son los registros sin peso?"
   ]
  },
  {
   "cell_type": "code",
   "execution_count": 22,
   "metadata": {},
   "outputs": [
    {
     "data": {
      "text/html": [
       "<div>\n",
       "<style scoped>\n",
       "    .dataframe tbody tr th:only-of-type {\n",
       "        vertical-align: middle;\n",
       "    }\n",
       "\n",
       "    .dataframe tbody tr th {\n",
       "        vertical-align: top;\n",
       "    }\n",
       "\n",
       "    .dataframe thead th {\n",
       "        text-align: right;\n",
       "    }\n",
       "</style>\n",
       "<table border=\"1\" class=\"dataframe\">\n",
       "  <thead>\n",
       "    <tr style=\"text-align: right;\">\n",
       "      <th></th>\n",
       "      <th>Nombre</th>\n",
       "      <th>Edad</th>\n",
       "      <th>Sexo</th>\n",
       "      <th>Peso</th>\n",
       "      <th>Altura</th>\n",
       "      <th>Ciudad</th>\n",
       "      <th>Profesion</th>\n",
       "      <th>Sueldo</th>\n",
       "    </tr>\n",
       "  </thead>\n",
       "  <tbody>\n",
       "    <tr>\n",
       "      <th>12</th>\n",
       "      <td>Pedro</td>\n",
       "      <td>36.0</td>\n",
       "      <td>M</td>\n",
       "      <td>NaN</td>\n",
       "      <td>1.68</td>\n",
       "      <td>Arequipa</td>\n",
       "      <td>Publicista</td>\n",
       "      <td>4500.0</td>\n",
       "    </tr>\n",
       "    <tr>\n",
       "      <th>22</th>\n",
       "      <td>Vanessa</td>\n",
       "      <td>34.0</td>\n",
       "      <td>F</td>\n",
       "      <td>NaN</td>\n",
       "      <td>1.80</td>\n",
       "      <td>Cerro de Pasco</td>\n",
       "      <td>Musico</td>\n",
       "      <td>10200.0</td>\n",
       "    </tr>\n",
       "  </tbody>\n",
       "</table>\n",
       "</div>"
      ],
      "text/plain": [
       "     Nombre  Edad Sexo  Peso  Altura          Ciudad   Profesion   Sueldo\n",
       "12    Pedro  36.0    M   NaN    1.68        Arequipa  Publicista   4500.0\n",
       "22  Vanessa  34.0    F   NaN    1.80  Cerro de Pasco      Musico  10200.0"
      ]
     },
     "execution_count": 22,
     "metadata": {},
     "output_type": "execute_result"
    }
   ],
   "source": [
    "datos[(datos[\"Peso\"].isnull())]"
   ]
  },
  {
   "cell_type": "code",
   "execution_count": 23,
   "metadata": {},
   "outputs": [
    {
     "data": {
      "text/plain": [
       "Text(0.5, 1.0, 'Pesos según género')"
      ]
     },
     "execution_count": 23,
     "metadata": {},
     "output_type": "execute_result"
    },
    {
     "data": {
      "image/png": "[encoded data removed]",
      "text/plain": [
       "<Figure size 432x288 with 1 Axes>"
      ]
     },
     "metadata": {
      "needs_background": "light"
     },
     "output_type": "display_data"
    }
   ],
   "source": [
    "peso_h=datos[(datos[\"Sexo\"]==\"M\")&(datos[\"Peso\"].notnull())][\"Peso\"]\n",
    "peso_m=datos[(datos[\"Sexo\"]==\"F\")&(datos[\"Peso\"].notnull())][\"Peso\"]\n",
    "\n",
    "plt.boxplot(x=[peso_h,peso_m],labels=[\"Hombres\",\"Mujeres\"],whis=1.5,vert=True)\n",
    "plt.ylabel(\"Peso (kg)\")\n",
    "plt.title(\"Pesos según género\")"
   ]
  },
  {
   "cell_type": "markdown",
   "metadata": {},
   "source": [
    "#### Hay un dato atípico en el peso de las mujeres. Se excluye este dato para hallar el peso representativo de las mujeres"
   ]
  },
  {
   "cell_type": "code",
   "execution_count": 24,
   "metadata": {},
   "outputs": [],
   "source": [
    "p25_pm=datos[(datos[\"Sexo\"]==\"F\")&(datos[\"Peso\"].notnull())][\"Peso\"].quantile(q=0.25)\n",
    "p75_pm=datos[(datos[\"Sexo\"]==\"F\")&(datos[\"Peso\"].notnull())][\"Peso\"].quantile(q=0.75)\n",
    "\n",
    "ri=p75_pm-p25_pm                                                                                                                             \n",
    "ls_pm=p75_pm+1.5*ri\n",
    "\n",
    "peso_mx=datos[(datos[\"Sexo\"]==\"F\")&(datos[\"Peso\"].notnull())&(datos[\"Peso\"]<=ls_pm)][\"Peso\"].median()\n",
    "peso_hx=datos[(datos[\"Sexo\"]==\"M\")&(datos[\"Peso\"].notnull())][\"Peso\"].median()"
   ]
  },
  {
   "cell_type": "code",
   "execution_count": 25,
   "metadata": {},
   "outputs": [
    {
     "data": {
      "text/html": [
       "<div>\n",
       "<style scoped>\n",
       "    .dataframe tbody tr th:only-of-type {\n",
       "        vertical-align: middle;\n",
       "    }\n",
       "\n",
       "    .dataframe tbody tr th {\n",
       "        vertical-align: top;\n",
       "    }\n",
       "\n",
       "    .dataframe thead th {\n",
       "        text-align: right;\n",
       "    }\n",
       "</style>\n",
       "<table border=\"1\" class=\"dataframe\">\n",
       "  <thead>\n",
       "    <tr style=\"text-align: right;\">\n",
       "      <th></th>\n",
       "      <th>Nombre</th>\n",
       "      <th>Edad</th>\n",
       "      <th>Sexo</th>\n",
       "      <th>Peso</th>\n",
       "      <th>Altura</th>\n",
       "      <th>Ciudad</th>\n",
       "      <th>Profesion</th>\n",
       "      <th>Sueldo</th>\n",
       "    </tr>\n",
       "  </thead>\n",
       "  <tbody>\n",
       "    <tr>\n",
       "      <th>12</th>\n",
       "      <td>Pedro</td>\n",
       "      <td>36.0</td>\n",
       "      <td>M</td>\n",
       "      <td>79.0</td>\n",
       "      <td>1.68</td>\n",
       "      <td>Arequipa</td>\n",
       "      <td>Publicista</td>\n",
       "      <td>4500.0</td>\n",
       "    </tr>\n",
       "    <tr>\n",
       "      <th>22</th>\n",
       "      <td>Vanessa</td>\n",
       "      <td>34.0</td>\n",
       "      <td>F</td>\n",
       "      <td>71.0</td>\n",
       "      <td>1.80</td>\n",
       "      <td>Cerro de Pasco</td>\n",
       "      <td>Musico</td>\n",
       "      <td>10200.0</td>\n",
       "    </tr>\n",
       "  </tbody>\n",
       "</table>\n",
       "</div>"
      ],
      "text/plain": [
       "     Nombre  Edad Sexo  Peso  Altura          Ciudad   Profesion   Sueldo\n",
       "12    Pedro  36.0    M  79.0    1.68        Arequipa  Publicista   4500.0\n",
       "22  Vanessa  34.0    F  71.0    1.80  Cerro de Pasco      Musico  10200.0"
      ]
     },
     "execution_count": 25,
     "metadata": {},
     "output_type": "execute_result"
    }
   ],
   "source": [
    "datos.loc[(datos[\"Peso\"].isnull()),\"Peso\"]=[[peso_hx],[peso_mx]]\n",
    "datos.loc[[12,22],:]"
   ]
  },
  {
   "cell_type": "code",
   "execution_count": 26,
   "metadata": {},
   "outputs": [
    {
     "data": {
      "text/plain": [
       "Nombre       0\n",
       "Edad         0\n",
       "Sexo         0\n",
       "Peso         0\n",
       "Altura       6\n",
       "Ciudad       0\n",
       "Profesion    0\n",
       "Sueldo       8\n",
       "dtype: int64"
      ]
     },
     "execution_count": 26,
     "metadata": {},
     "output_type": "execute_result"
    }
   ],
   "source": [
    "datos.isnull().sum()"
   ]
  },
  {
   "cell_type": "markdown",
   "metadata": {},
   "source": [
    "#### Personas sin dato para altura"
   ]
  },
  {
   "cell_type": "code",
   "execution_count": 27,
   "metadata": {},
   "outputs": [
    {
     "data": {
      "text/html": [
       "<div>\n",
       "<style scoped>\n",
       "    .dataframe tbody tr th:only-of-type {\n",
       "        vertical-align: middle;\n",
       "    }\n",
       "\n",
       "    .dataframe tbody tr th {\n",
       "        vertical-align: top;\n",
       "    }\n",
       "\n",
       "    .dataframe thead th {\n",
       "        text-align: right;\n",
       "    }\n",
       "</style>\n",
       "<table border=\"1\" class=\"dataframe\">\n",
       "  <thead>\n",
       "    <tr style=\"text-align: right;\">\n",
       "      <th></th>\n",
       "      <th>Nombre</th>\n",
       "      <th>Edad</th>\n",
       "      <th>Sexo</th>\n",
       "      <th>Peso</th>\n",
       "      <th>Altura</th>\n",
       "      <th>Ciudad</th>\n",
       "      <th>Profesion</th>\n",
       "      <th>Sueldo</th>\n",
       "    </tr>\n",
       "  </thead>\n",
       "  <tbody>\n",
       "    <tr>\n",
       "      <th>14</th>\n",
       "      <td>Patty</td>\n",
       "      <td>26.0</td>\n",
       "      <td>F</td>\n",
       "      <td>69.0</td>\n",
       "      <td>NaN</td>\n",
       "      <td>Cajamarca</td>\n",
       "      <td>Abogado</td>\n",
       "      <td>12300.0</td>\n",
       "    </tr>\n",
       "    <tr>\n",
       "      <th>20</th>\n",
       "      <td>Mauricio</td>\n",
       "      <td>38.0</td>\n",
       "      <td>M</td>\n",
       "      <td>74.0</td>\n",
       "      <td>NaN</td>\n",
       "      <td>Juliaca</td>\n",
       "      <td>Abogado</td>\n",
       "      <td>11250.0</td>\n",
       "    </tr>\n",
       "    <tr>\n",
       "      <th>87</th>\n",
       "      <td>Felipe</td>\n",
       "      <td>50.0</td>\n",
       "      <td>M</td>\n",
       "      <td>70.0</td>\n",
       "      <td>NaN</td>\n",
       "      <td>Lima</td>\n",
       "      <td>Mecanico</td>\n",
       "      <td>4650.0</td>\n",
       "    </tr>\n",
       "    <tr>\n",
       "      <th>88</th>\n",
       "      <td>Jessica</td>\n",
       "      <td>25.0</td>\n",
       "      <td>F</td>\n",
       "      <td>82.0</td>\n",
       "      <td>NaN</td>\n",
       "      <td>Lima</td>\n",
       "      <td>Medico</td>\n",
       "      <td>NaN</td>\n",
       "    </tr>\n",
       "    <tr>\n",
       "      <th>95</th>\n",
       "      <td>Hernan</td>\n",
       "      <td>45.0</td>\n",
       "      <td>M</td>\n",
       "      <td>80.0</td>\n",
       "      <td>NaN</td>\n",
       "      <td>Cerro de Pasco</td>\n",
       "      <td>Medico</td>\n",
       "      <td>8500.0</td>\n",
       "    </tr>\n",
       "    <tr>\n",
       "      <th>96</th>\n",
       "      <td>Amparo</td>\n",
       "      <td>41.0</td>\n",
       "      <td>F</td>\n",
       "      <td>67.0</td>\n",
       "      <td>NaN</td>\n",
       "      <td>Cerro de Pasco</td>\n",
       "      <td>Medico</td>\n",
       "      <td>8600.0</td>\n",
       "    </tr>\n",
       "  </tbody>\n",
       "</table>\n",
       "</div>"
      ],
      "text/plain": [
       "      Nombre  Edad Sexo  Peso  Altura          Ciudad Profesion   Sueldo\n",
       "14     Patty  26.0    F  69.0     NaN       Cajamarca   Abogado  12300.0\n",
       "20  Mauricio  38.0    M  74.0     NaN         Juliaca   Abogado  11250.0\n",
       "87    Felipe  50.0    M  70.0     NaN            Lima  Mecanico   4650.0\n",
       "88   Jessica  25.0    F  82.0     NaN            Lima    Medico      NaN\n",
       "95    Hernan  45.0    M  80.0     NaN  Cerro de Pasco    Medico   8500.0\n",
       "96    Amparo  41.0    F  67.0     NaN  Cerro de Pasco    Medico   8600.0"
      ]
     },
     "execution_count": 27,
     "metadata": {},
     "output_type": "execute_result"
    }
   ],
   "source": [
    "datos[(datos[\"Altura\"].isnull())]"
   ]
  },
  {
   "cell_type": "markdown",
   "metadata": {},
   "source": [
    "#### Las personas a las cuales les falta el dato altura son hombres y mujeres de Cajamarca, Juliaca y Cerro de Pasco (sierra) y de Lima (costa). Se calculan alturas para imputarlas a estos registros, suponiendo que hay diferencias respecto a la altura entre las personas que han crecido en la sierra y la costa. "
   ]
  },
  {
   "cell_type": "code",
   "execution_count": 28,
   "metadata": {},
   "outputs": [
    {
     "data": {
      "text/plain": [
       "Lima              20\n",
       "Huaraz            12\n",
       "Cajamarca         10\n",
       "Arequipa           9\n",
       "Ica                8\n",
       "Juliaca            8\n",
       "Tarapoto           8\n",
       "Cerro de Pasco     8\n",
       "Chimbote           7\n",
       "Name: Ciudad, dtype: int64"
      ]
     },
     "execution_count": 28,
     "metadata": {},
     "output_type": "execute_result"
    }
   ],
   "source": [
    "datos[\"Ciudad\"].value_counts(normalize=False)"
   ]
  },
  {
   "cell_type": "markdown",
   "metadata": {},
   "source": [
    "#### Se crea una columna de ayuda llamada Region"
   ]
  },
  {
   "cell_type": "code",
   "execution_count": 29,
   "metadata": {},
   "outputs": [
    {
     "data": {
      "text/html": [
       "<div>\n",
       "<style scoped>\n",
       "    .dataframe tbody tr th:only-of-type {\n",
       "        vertical-align: middle;\n",
       "    }\n",
       "\n",
       "    .dataframe tbody tr th {\n",
       "        vertical-align: top;\n",
       "    }\n",
       "\n",
       "    .dataframe thead th {\n",
       "        text-align: right;\n",
       "    }\n",
       "</style>\n",
       "<table border=\"1\" class=\"dataframe\">\n",
       "  <thead>\n",
       "    <tr style=\"text-align: right;\">\n",
       "      <th></th>\n",
       "      <th>Nombre</th>\n",
       "      <th>Edad</th>\n",
       "      <th>Sexo</th>\n",
       "      <th>Peso</th>\n",
       "      <th>Altura</th>\n",
       "      <th>Ciudad</th>\n",
       "      <th>Profesion</th>\n",
       "      <th>Sueldo</th>\n",
       "      <th>Region</th>\n",
       "    </tr>\n",
       "  </thead>\n",
       "  <tbody>\n",
       "    <tr>\n",
       "      <th>0</th>\n",
       "      <td>José</td>\n",
       "      <td>27.0</td>\n",
       "      <td>M</td>\n",
       "      <td>70.0</td>\n",
       "      <td>1.71</td>\n",
       "      <td>Cajamarca</td>\n",
       "      <td>Ingeniero</td>\n",
       "      <td>15000.0</td>\n",
       "      <td>sierra</td>\n",
       "    </tr>\n",
       "    <tr>\n",
       "      <th>2</th>\n",
       "      <td>Juana</td>\n",
       "      <td>72.0</td>\n",
       "      <td>F</td>\n",
       "      <td>76.0</td>\n",
       "      <td>1.70</td>\n",
       "      <td>Lima</td>\n",
       "      <td>Arquitecto</td>\n",
       "      <td>8500.0</td>\n",
       "      <td>costa</td>\n",
       "    </tr>\n",
       "    <tr>\n",
       "      <th>8</th>\n",
       "      <td>Solange</td>\n",
       "      <td>25.0</td>\n",
       "      <td>F</td>\n",
       "      <td>69.0</td>\n",
       "      <td>1.69</td>\n",
       "      <td>Lima</td>\n",
       "      <td>Medico</td>\n",
       "      <td>14000.0</td>\n",
       "      <td>costa</td>\n",
       "    </tr>\n",
       "    <tr>\n",
       "      <th>9</th>\n",
       "      <td>Diana</td>\n",
       "      <td>29.0</td>\n",
       "      <td>F</td>\n",
       "      <td>69.0</td>\n",
       "      <td>1.67</td>\n",
       "      <td>Cajamarca</td>\n",
       "      <td>Abogado</td>\n",
       "      <td>11000.0</td>\n",
       "      <td>sierra</td>\n",
       "    </tr>\n",
       "    <tr>\n",
       "      <th>10</th>\n",
       "      <td>Hermenegilda</td>\n",
       "      <td>67.0</td>\n",
       "      <td>F</td>\n",
       "      <td>80.0</td>\n",
       "      <td>1.67</td>\n",
       "      <td>Ica</td>\n",
       "      <td>Psicologo</td>\n",
       "      <td>5600.0</td>\n",
       "      <td>costa</td>\n",
       "    </tr>\n",
       "  </tbody>\n",
       "</table>\n",
       "</div>"
      ],
      "text/plain": [
       "          Nombre  Edad Sexo  Peso  Altura     Ciudad   Profesion   Sueldo  \\\n",
       "0           José  27.0    M  70.0    1.71  Cajamarca   Ingeniero  15000.0   \n",
       "2          Juana  72.0    F  76.0    1.70       Lima  Arquitecto   8500.0   \n",
       "8        Solange  25.0    F  69.0    1.69       Lima      Medico  14000.0   \n",
       "9          Diana  29.0    F  69.0    1.67  Cajamarca     Abogado  11000.0   \n",
       "10  Hermenegilda  67.0    F  80.0    1.67        Ica   Psicologo   5600.0   \n",
       "\n",
       "    Region  \n",
       "0   sierra  \n",
       "2    costa  \n",
       "8    costa  \n",
       "9   sierra  \n",
       "10   costa  "
      ]
     },
     "execution_count": 29,
     "metadata": {},
     "output_type": "execute_result"
    }
   ],
   "source": [
    "condiciones=[(datos[\"Ciudad\"]==\"Lima\")|(datos[\"Ciudad\"]==\"Ica\")|(datos[\"Ciudad\"]==\"Chimbote\"),\n",
    "            (datos[\"Ciudad\"]==\"Huaraz\")|(datos[\"Ciudad\"]==\"Cajamarca\")|(datos[\"Ciudad\"]==\"Arequipa\")|\n",
    "             (datos[\"Ciudad\"]==\"Cerro de Pasco\")|(datos[\"Ciudad\"]==\"Juliaca\")]\n",
    "valores=(\"costa\",\"sierra\")\n",
    "datos[\"Region\"]=np.select(condiciones,valores)\n",
    "datos.head()"
   ]
  },
  {
   "cell_type": "code",
   "execution_count": 30,
   "metadata": {},
   "outputs": [],
   "source": [
    "altura_hsierra=round(datos[(datos[\"Sexo\"]==\"M\")&(datos[\"Region\"]==\"sierra\")&(datos[\"Altura\"].notnull())][\"Altura\"].median(),2)\n",
    "altura_hcosta=round(datos[(datos[\"Sexo\"]==\"M\")&(datos[\"Region\"]==\"costa\")&(datos[\"Altura\"].notnull())][\"Altura\"].median(),2)\n",
    "\n",
    "altura_msierra=round(datos[(datos[\"Sexo\"]==\"F\")&(datos[\"Region\"]==\"sierra\")&(datos[\"Altura\"].notnull())][\"Altura\"].median(),2)\n",
    "altura_mcosta=round(datos[(datos[\"Sexo\"]==\"F\")&(datos[\"Region\"]==\"costa\")&(datos[\"Altura\"].notnull())][\"Altura\"].median(),2)"
   ]
  },
  {
   "cell_type": "code",
   "execution_count": 31,
   "metadata": {},
   "outputs": [
    {
     "data": {
      "text/html": [
       "<div>\n",
       "<style scoped>\n",
       "    .dataframe tbody tr th:only-of-type {\n",
       "        vertical-align: middle;\n",
       "    }\n",
       "\n",
       "    .dataframe tbody tr th {\n",
       "        vertical-align: top;\n",
       "    }\n",
       "\n",
       "    .dataframe thead th {\n",
       "        text-align: right;\n",
       "    }\n",
       "</style>\n",
       "<table border=\"1\" class=\"dataframe\">\n",
       "  <thead>\n",
       "    <tr style=\"text-align: right;\">\n",
       "      <th></th>\n",
       "      <th>Nombre</th>\n",
       "      <th>Edad</th>\n",
       "      <th>Sexo</th>\n",
       "      <th>Peso</th>\n",
       "      <th>Altura</th>\n",
       "      <th>Ciudad</th>\n",
       "      <th>Profesion</th>\n",
       "      <th>Sueldo</th>\n",
       "      <th>Region</th>\n",
       "    </tr>\n",
       "  </thead>\n",
       "  <tbody>\n",
       "    <tr>\n",
       "      <th>14</th>\n",
       "      <td>Patty</td>\n",
       "      <td>26.0</td>\n",
       "      <td>F</td>\n",
       "      <td>69.0</td>\n",
       "      <td>NaN</td>\n",
       "      <td>Cajamarca</td>\n",
       "      <td>Abogado</td>\n",
       "      <td>12300.0</td>\n",
       "      <td>sierra</td>\n",
       "    </tr>\n",
       "    <tr>\n",
       "      <th>20</th>\n",
       "      <td>Mauricio</td>\n",
       "      <td>38.0</td>\n",
       "      <td>M</td>\n",
       "      <td>74.0</td>\n",
       "      <td>NaN</td>\n",
       "      <td>Juliaca</td>\n",
       "      <td>Abogado</td>\n",
       "      <td>11250.0</td>\n",
       "      <td>sierra</td>\n",
       "    </tr>\n",
       "    <tr>\n",
       "      <th>87</th>\n",
       "      <td>Felipe</td>\n",
       "      <td>50.0</td>\n",
       "      <td>M</td>\n",
       "      <td>70.0</td>\n",
       "      <td>NaN</td>\n",
       "      <td>Lima</td>\n",
       "      <td>Mecanico</td>\n",
       "      <td>4650.0</td>\n",
       "      <td>costa</td>\n",
       "    </tr>\n",
       "    <tr>\n",
       "      <th>88</th>\n",
       "      <td>Jessica</td>\n",
       "      <td>25.0</td>\n",
       "      <td>F</td>\n",
       "      <td>82.0</td>\n",
       "      <td>NaN</td>\n",
       "      <td>Lima</td>\n",
       "      <td>Medico</td>\n",
       "      <td>NaN</td>\n",
       "      <td>costa</td>\n",
       "    </tr>\n",
       "    <tr>\n",
       "      <th>95</th>\n",
       "      <td>Hernan</td>\n",
       "      <td>45.0</td>\n",
       "      <td>M</td>\n",
       "      <td>80.0</td>\n",
       "      <td>NaN</td>\n",
       "      <td>Cerro de Pasco</td>\n",
       "      <td>Medico</td>\n",
       "      <td>8500.0</td>\n",
       "      <td>sierra</td>\n",
       "    </tr>\n",
       "    <tr>\n",
       "      <th>96</th>\n",
       "      <td>Amparo</td>\n",
       "      <td>41.0</td>\n",
       "      <td>F</td>\n",
       "      <td>67.0</td>\n",
       "      <td>NaN</td>\n",
       "      <td>Cerro de Pasco</td>\n",
       "      <td>Medico</td>\n",
       "      <td>8600.0</td>\n",
       "      <td>sierra</td>\n",
       "    </tr>\n",
       "  </tbody>\n",
       "</table>\n",
       "</div>"
      ],
      "text/plain": [
       "      Nombre  Edad Sexo  Peso  Altura          Ciudad Profesion   Sueldo  \\\n",
       "14     Patty  26.0    F  69.0     NaN       Cajamarca   Abogado  12300.0   \n",
       "20  Mauricio  38.0    M  74.0     NaN         Juliaca   Abogado  11250.0   \n",
       "87    Felipe  50.0    M  70.0     NaN            Lima  Mecanico   4650.0   \n",
       "88   Jessica  25.0    F  82.0     NaN            Lima    Medico      NaN   \n",
       "95    Hernan  45.0    M  80.0     NaN  Cerro de Pasco    Medico   8500.0   \n",
       "96    Amparo  41.0    F  67.0     NaN  Cerro de Pasco    Medico   8600.0   \n",
       "\n",
       "    Region  \n",
       "14  sierra  \n",
       "20  sierra  \n",
       "87   costa  \n",
       "88   costa  \n",
       "95  sierra  \n",
       "96  sierra  "
      ]
     },
     "execution_count": 31,
     "metadata": {},
     "output_type": "execute_result"
    }
   ],
   "source": [
    "datos[(datos[\"Altura\"].isnull())]"
   ]
  },
  {
   "cell_type": "code",
   "execution_count": 32,
   "metadata": {},
   "outputs": [
    {
     "data": {
      "text/html": [
       "<div>\n",
       "<style scoped>\n",
       "    .dataframe tbody tr th:only-of-type {\n",
       "        vertical-align: middle;\n",
       "    }\n",
       "\n",
       "    .dataframe tbody tr th {\n",
       "        vertical-align: top;\n",
       "    }\n",
       "\n",
       "    .dataframe thead th {\n",
       "        text-align: right;\n",
       "    }\n",
       "</style>\n",
       "<table border=\"1\" class=\"dataframe\">\n",
       "  <thead>\n",
       "    <tr style=\"text-align: right;\">\n",
       "      <th></th>\n",
       "      <th>Nombre</th>\n",
       "      <th>Edad</th>\n",
       "      <th>Sexo</th>\n",
       "      <th>Peso</th>\n",
       "      <th>Altura</th>\n",
       "      <th>Ciudad</th>\n",
       "      <th>Profesion</th>\n",
       "      <th>Sueldo</th>\n",
       "      <th>Region</th>\n",
       "    </tr>\n",
       "  </thead>\n",
       "  <tbody>\n",
       "    <tr>\n",
       "      <th>87</th>\n",
       "      <td>Felipe</td>\n",
       "      <td>50.0</td>\n",
       "      <td>M</td>\n",
       "      <td>70.0</td>\n",
       "      <td>NaN</td>\n",
       "      <td>Lima</td>\n",
       "      <td>Mecanico</td>\n",
       "      <td>4650.0</td>\n",
       "      <td>costa</td>\n",
       "    </tr>\n",
       "    <tr>\n",
       "      <th>88</th>\n",
       "      <td>Jessica</td>\n",
       "      <td>25.0</td>\n",
       "      <td>F</td>\n",
       "      <td>82.0</td>\n",
       "      <td>NaN</td>\n",
       "      <td>Lima</td>\n",
       "      <td>Medico</td>\n",
       "      <td>NaN</td>\n",
       "      <td>costa</td>\n",
       "    </tr>\n",
       "  </tbody>\n",
       "</table>\n",
       "</div>"
      ],
      "text/plain": [
       "     Nombre  Edad Sexo  Peso  Altura Ciudad Profesion  Sueldo Region\n",
       "87   Felipe  50.0    M  70.0     NaN   Lima  Mecanico  4650.0  costa\n",
       "88  Jessica  25.0    F  82.0     NaN   Lima    Medico     NaN  costa"
      ]
     },
     "execution_count": 32,
     "metadata": {},
     "output_type": "execute_result"
    }
   ],
   "source": [
    "datos.loc[(datos[\"Altura\"].isnull())&(datos[\"Region\"]==\"sierra\"),\"Altura\"]=[[altura_msierra],[altura_hsierra],\n",
    "                                                                           [altura_hsierra],[altura_msierra]]\n",
    "datos[(datos[\"Altura\"].isnull())]"
   ]
  },
  {
   "cell_type": "code",
   "execution_count": 35,
   "metadata": {},
   "outputs": [
    {
     "data": {
      "text/html": [
       "<div>\n",
       "<style scoped>\n",
       "    .dataframe tbody tr th:only-of-type {\n",
       "        vertical-align: middle;\n",
       "    }\n",
       "\n",
       "    .dataframe tbody tr th {\n",
       "        vertical-align: top;\n",
       "    }\n",
       "\n",
       "    .dataframe thead th {\n",
       "        text-align: right;\n",
       "    }\n",
       "</style>\n",
       "<table border=\"1\" class=\"dataframe\">\n",
       "  <thead>\n",
       "    <tr style=\"text-align: right;\">\n",
       "      <th></th>\n",
       "      <th>Nombre</th>\n",
       "      <th>Edad</th>\n",
       "      <th>Sexo</th>\n",
       "      <th>Peso</th>\n",
       "      <th>Altura</th>\n",
       "      <th>Ciudad</th>\n",
       "      <th>Profesion</th>\n",
       "      <th>Sueldo</th>\n",
       "      <th>Region</th>\n",
       "    </tr>\n",
       "  </thead>\n",
       "  <tbody>\n",
       "    <tr>\n",
       "      <th>87</th>\n",
       "      <td>Felipe</td>\n",
       "      <td>50.0</td>\n",
       "      <td>M</td>\n",
       "      <td>70.0</td>\n",
       "      <td>1.73</td>\n",
       "      <td>Lima</td>\n",
       "      <td>Mecanico</td>\n",
       "      <td>4650.0</td>\n",
       "      <td>costa</td>\n",
       "    </tr>\n",
       "    <tr>\n",
       "      <th>88</th>\n",
       "      <td>Jessica</td>\n",
       "      <td>25.0</td>\n",
       "      <td>F</td>\n",
       "      <td>82.0</td>\n",
       "      <td>1.73</td>\n",
       "      <td>Lima</td>\n",
       "      <td>Medico</td>\n",
       "      <td>NaN</td>\n",
       "      <td>costa</td>\n",
       "    </tr>\n",
       "  </tbody>\n",
       "</table>\n",
       "</div>"
      ],
      "text/plain": [
       "     Nombre  Edad Sexo  Peso  Altura Ciudad Profesion  Sueldo Region\n",
       "87   Felipe  50.0    M  70.0    1.73   Lima  Mecanico  4650.0  costa\n",
       "88  Jessica  25.0    F  82.0    1.73   Lima    Medico     NaN  costa"
      ]
     },
     "execution_count": 35,
     "metadata": {},
     "output_type": "execute_result"
    }
   ],
   "source": [
    "datos.loc[(datos[\"Altura\"].isnull()),\"Altura\"]=[[altura_hcosta],[altura_hcosta]]\n",
    "datos.loc[[87,88],:]"
   ]
  },
  {
   "cell_type": "markdown",
   "metadata": {},
   "source": [
    "#### Solo quedan registros sin datos para el sueldo"
   ]
  },
  {
   "cell_type": "code",
   "execution_count": 37,
   "metadata": {},
   "outputs": [
    {
     "data": {
      "text/plain": [
       "Nombre       0\n",
       "Edad         0\n",
       "Sexo         0\n",
       "Peso         0\n",
       "Altura       0\n",
       "Ciudad       0\n",
       "Profesion    0\n",
       "Sueldo       8\n",
       "Region       0\n",
       "dtype: int64"
      ]
     },
     "execution_count": 37,
     "metadata": {},
     "output_type": "execute_result"
    }
   ],
   "source": [
    "datos.isnull().sum()"
   ]
  },
  {
   "cell_type": "markdown",
   "metadata": {},
   "source": [
    "#### Las profesiones de las personas (registros) sin sueldo"
   ]
  },
  {
   "cell_type": "code",
   "execution_count": 39,
   "metadata": {},
   "outputs": [
    {
     "data": {
      "text/plain": [
       "Arquitecto    3\n",
       "Ingeniero     2\n",
       "Abogado       2\n",
       "Medico        1\n",
       "Name: Profesion, dtype: int64"
      ]
     },
     "execution_count": 39,
     "metadata": {},
     "output_type": "execute_result"
    }
   ],
   "source": [
    "datos[(datos[\"Sueldo\"].isnull())][\"Profesion\"].value_counts(normalize=False)"
   ]
  },
  {
   "cell_type": "code",
   "execution_count": 46,
   "metadata": {},
   "outputs": [],
   "source": [
    "sueldo_arq=datos[(datos[\"Profesion\"]==\"Arquitecto\")&(datos[\"Sueldo\"].notnull())][\"Sueldo\"].median()\n",
    "sueldo_ing=datos[(datos[\"Profesion\"]==\"Ingeniero\")&(datos[\"Sueldo\"].notnull())][\"Sueldo\"].median()\n",
    "sueldo_abg=datos[(datos[\"Profesion\"]==\"Abogado\")&(datos[\"Sueldo\"].notnull())][\"Sueldo\"].median()\n",
    "sueldo_med=datos[(datos[\"Profesion\"]==\"Medico\")&(datos[\"Sueldo\"].notnull())][\"Sueldo\"].median()\n",
    "\n",
    "datos.loc[(datos[\"Sueldo\"].isnull())&(datos[\"Profesion\"]==\"Arquitecto\"),\"Sueldo\"]=[[sueldo_arq]]*3\n",
    "datos.loc[(datos[\"Sueldo\"].isnull())&(datos[\"Profesion\"]==\"Ingeniero\"),\"Sueldo\"]=[[sueldo_ing]]*2\n",
    "datos.loc[(datos[\"Sueldo\"].isnull())&(datos[\"Profesion\"]==\"Abogado\"),\"Sueldo\"]=[[sueldo_abg]]*2\n",
    "datos.loc[(datos[\"Sueldo\"].isnull())&(datos[\"Profesion\"]==\"Medico\"),\"Sueldo\"]=[[sueldo_med]]\n"
   ]
  },
  {
   "cell_type": "markdown",
   "metadata": {},
   "source": [
    "#### Los datos ya se encuentran limpios"
   ]
  },
  {
   "cell_type": "code",
   "execution_count": 47,
   "metadata": {},
   "outputs": [
    {
     "data": {
      "text/plain": [
       "Nombre       0\n",
       "Edad         0\n",
       "Sexo         0\n",
       "Peso         0\n",
       "Altura       0\n",
       "Ciudad       0\n",
       "Profesion    0\n",
       "Sueldo       0\n",
       "Region       0\n",
       "dtype: int64"
      ]
     },
     "execution_count": 47,
     "metadata": {},
     "output_type": "execute_result"
    }
   ],
   "source": [
    "datos.isnull().sum()"
   ]
  },
  {
   "cell_type": "markdown",
   "metadata": {},
   "source": [
    "#### Se elaboran algunas gráficas para evaluar los datos - análisis exploratorio de datos"
   ]
  },
  {
   "cell_type": "code",
   "execution_count": 52,
   "metadata": {},
   "outputs": [
    {
     "data": {
      "text/plain": [
       "'La edad máxima es 76 años y la edad mínima es 22 años'"
      ]
     },
     "execution_count": 52,
     "metadata": {},
     "output_type": "execute_result"
    }
   ],
   "source": [
    "\"La edad máxima es \"+str(int(datos[\"Edad\"].max()))+\" años y la edad mínima es \"+str(int(datos[\"Edad\"].min()))+\" años\" "
   ]
  },
  {
   "cell_type": "code",
   "execution_count": 75,
   "metadata": {},
   "outputs": [
    {
     "data": {
      "text/plain": [
       "Text(0.5, 0, 'Edad (años)')"
      ]
     },
     "execution_count": 75,
     "metadata": {},
     "output_type": "execute_result"
    },
    {
     "data": {
      "image/png": "[encoded data removed]",
      "text/plain": [
       "<Figure size 432x288 with 1 Axes>"
      ]
     },
     "metadata": {
      "needs_background": "light"
     },
     "output_type": "display_data"
    }
   ],
   "source": [
    "plt.hist(x=datos[\"Edad\"],bins=[20,30,40,50,60,70,80],edgecolor=\"black\",color=\"blue\")\n",
    "plt.title(\"Edades de personas encuestadas\")\n",
    "plt.ylabel(\"N° de personas\")\n",
    "plt.xlabel(\"Edad (años)\")\n",
    "#Un histograma se elabora a partir de una distribución de frecuencias por intervalos"
   ]
  },
  {
   "cell_type": "code",
   "execution_count": 71,
   "metadata": {},
   "outputs": [
    {
     "data": {
      "text/plain": [
       "'Mujeres: La edad máxima es 72 años y la edad mínima es 22 años'"
      ]
     },
     "execution_count": 71,
     "metadata": {},
     "output_type": "execute_result"
    }
   ],
   "source": [
    "edades_mujeres=datos[(datos[\"Sexo\"]==\"F\")][\"Edad\"]\n",
    "\"Mujeres: La edad máxima es \"+str(int(edades_mujeres.max()))+\" años y la edad mínima es \"+str(int(edades_mujeres.min()))+\" años\""
   ]
  },
  {
   "cell_type": "code",
   "execution_count": 82,
   "metadata": {},
   "outputs": [
    {
     "data": {
      "text/plain": [
       "Text(0.5, 1.0, 'Mujeres encuestadas')"
      ]
     },
     "execution_count": 82,
     "metadata": {},
     "output_type": "execute_result"
    },
    {
     "data": {
      "image/png": "[encoded data removed]",
      "text/plain": [
       "<Figure size 432x288 with 1 Axes>"
      ]
     },
     "metadata": {
      "needs_background": "light"
     },
     "output_type": "display_data"
    }
   ],
   "source": [
    "plt.hist(x=edades_mujeres,bins=[20,30,40,50,60,70,80],edgecolor=\"black\",color=\"orchid\")\n",
    "plt.xlabel(\"Edad (años)\")\n",
    "plt.ylabel(\"N° de personas\")\n",
    "plt.title(\"Mujeres encuestadas\")"
   ]
  },
  {
   "cell_type": "code",
   "execution_count": 79,
   "metadata": {},
   "outputs": [
    {
     "data": {
      "text/plain": [
       "'Hombres: La edad máxima es de 76 años y la edad mínima es de 24 años'"
      ]
     },
     "execution_count": 79,
     "metadata": {},
     "output_type": "execute_result"
    }
   ],
   "source": [
    "edades_hombres=datos[(datos[\"Sexo\"]==\"M\")][\"Edad\"]\n",
    "\"Hombres: La edad máxima es de \"+str(int(edades_hombres.max()))+\" años y la edad mínima es de \"+str(int(edades_hombres.min()))+\" años\""
   ]
  },
  {
   "cell_type": "code",
   "execution_count": 84,
   "metadata": {},
   "outputs": [
    {
     "data": {
      "text/plain": [
       "Text(0.5, 1.0, 'Hombres encuestados')"
      ]
     },
     "execution_count": 84,
     "metadata": {},
     "output_type": "execute_result"
    },
    {
     "data": {
      "image/png": "[encoded data removed]",
      "text/plain": [
       "<Figure size 432x288 with 1 Axes>"
      ]
     },
     "metadata": {
      "needs_background": "light"
     },
     "output_type": "display_data"
    }
   ],
   "source": [
    "plt.hist(x=edades_hombres,bins=[20,30,40,50,60,70,80],edgecolor=\"black\",color=\"dodgerblue\")\n",
    "plt.xlabel(\"Edad (años)\")\n",
    "plt.ylabel(\"N° de personas\")\n",
    "plt.title(\"Hombres encuestados\")"
   ]
  },
  {
   "cell_type": "markdown",
   "metadata": {},
   "source": [
    "#### Se elimina la columna región puesto que no es necesaria, solo sirvió de ayuda para completar datos vacíos"
   ]
  },
  {
   "cell_type": "code",
   "execution_count": 86,
   "metadata": {},
   "outputs": [
    {
     "data": {
      "text/html": [
       "<div>\n",
       "<style scoped>\n",
       "    .dataframe tbody tr th:only-of-type {\n",
       "        vertical-align: middle;\n",
       "    }\n",
       "\n",
       "    .dataframe tbody tr th {\n",
       "        vertical-align: top;\n",
       "    }\n",
       "\n",
       "    .dataframe thead th {\n",
       "        text-align: right;\n",
       "    }\n",
       "</style>\n",
       "<table border=\"1\" class=\"dataframe\">\n",
       "  <thead>\n",
       "    <tr style=\"text-align: right;\">\n",
       "      <th></th>\n",
       "      <th>Nombre</th>\n",
       "      <th>Edad</th>\n",
       "      <th>Sexo</th>\n",
       "      <th>Peso</th>\n",
       "      <th>Altura</th>\n",
       "      <th>Ciudad</th>\n",
       "      <th>Profesion</th>\n",
       "      <th>Sueldo</th>\n",
       "    </tr>\n",
       "  </thead>\n",
       "  <tbody>\n",
       "    <tr>\n",
       "      <th>0</th>\n",
       "      <td>José</td>\n",
       "      <td>27.0</td>\n",
       "      <td>M</td>\n",
       "      <td>70.0</td>\n",
       "      <td>1.71</td>\n",
       "      <td>Cajamarca</td>\n",
       "      <td>Ingeniero</td>\n",
       "      <td>15000.0</td>\n",
       "    </tr>\n",
       "    <tr>\n",
       "      <th>2</th>\n",
       "      <td>Juana</td>\n",
       "      <td>72.0</td>\n",
       "      <td>F</td>\n",
       "      <td>76.0</td>\n",
       "      <td>1.70</td>\n",
       "      <td>Lima</td>\n",
       "      <td>Arquitecto</td>\n",
       "      <td>8500.0</td>\n",
       "    </tr>\n",
       "    <tr>\n",
       "      <th>8</th>\n",
       "      <td>Solange</td>\n",
       "      <td>25.0</td>\n",
       "      <td>F</td>\n",
       "      <td>69.0</td>\n",
       "      <td>1.69</td>\n",
       "      <td>Lima</td>\n",
       "      <td>Medico</td>\n",
       "      <td>14000.0</td>\n",
       "    </tr>\n",
       "    <tr>\n",
       "      <th>9</th>\n",
       "      <td>Diana</td>\n",
       "      <td>29.0</td>\n",
       "      <td>F</td>\n",
       "      <td>69.0</td>\n",
       "      <td>1.67</td>\n",
       "      <td>Cajamarca</td>\n",
       "      <td>Abogado</td>\n",
       "      <td>11000.0</td>\n",
       "    </tr>\n",
       "    <tr>\n",
       "      <th>10</th>\n",
       "      <td>Hermenegilda</td>\n",
       "      <td>67.0</td>\n",
       "      <td>F</td>\n",
       "      <td>80.0</td>\n",
       "      <td>1.67</td>\n",
       "      <td>Ica</td>\n",
       "      <td>Psicologo</td>\n",
       "      <td>5600.0</td>\n",
       "    </tr>\n",
       "  </tbody>\n",
       "</table>\n",
       "</div>"
      ],
      "text/plain": [
       "          Nombre  Edad Sexo  Peso  Altura     Ciudad   Profesion   Sueldo\n",
       "0           José  27.0    M  70.0    1.71  Cajamarca   Ingeniero  15000.0\n",
       "2          Juana  72.0    F  76.0    1.70       Lima  Arquitecto   8500.0\n",
       "8        Solange  25.0    F  69.0    1.69       Lima      Medico  14000.0\n",
       "9          Diana  29.0    F  69.0    1.67  Cajamarca     Abogado  11000.0\n",
       "10  Hermenegilda  67.0    F  80.0    1.67        Ica   Psicologo   5600.0"
      ]
     },
     "execution_count": 86,
     "metadata": {},
     "output_type": "execute_result"
    }
   ],
   "source": [
    "datos.drop(labels=[\"Region\"],axis=1,inplace=True)\n",
    "datos.head()"
   ]
  },
  {
   "cell_type": "code",
   "execution_count": 89,
   "metadata": {},
   "outputs": [
    {
     "data": {
      "text/html": [
       "<div>\n",
       "<style scoped>\n",
       "    .dataframe tbody tr th:only-of-type {\n",
       "        vertical-align: middle;\n",
       "    }\n",
       "\n",
       "    .dataframe tbody tr th {\n",
       "        vertical-align: top;\n",
       "    }\n",
       "\n",
       "    .dataframe thead th {\n",
       "        text-align: right;\n",
       "    }\n",
       "</style>\n",
       "<table border=\"1\" class=\"dataframe\">\n",
       "  <thead>\n",
       "    <tr style=\"text-align: right;\">\n",
       "      <th></th>\n",
       "      <th>Nombre</th>\n",
       "      <th>Edad</th>\n",
       "      <th>Sexo</th>\n",
       "      <th>Peso</th>\n",
       "      <th>Altura</th>\n",
       "      <th>Ciudad</th>\n",
       "      <th>Profesion</th>\n",
       "      <th>Sueldo</th>\n",
       "      <th>IMC</th>\n",
       "    </tr>\n",
       "  </thead>\n",
       "  <tbody>\n",
       "    <tr>\n",
       "      <th>0</th>\n",
       "      <td>José</td>\n",
       "      <td>27.0</td>\n",
       "      <td>M</td>\n",
       "      <td>70.0</td>\n",
       "      <td>1.71</td>\n",
       "      <td>Cajamarca</td>\n",
       "      <td>Ingeniero</td>\n",
       "      <td>15000.0</td>\n",
       "      <td>23.94</td>\n",
       "    </tr>\n",
       "    <tr>\n",
       "      <th>2</th>\n",
       "      <td>Juana</td>\n",
       "      <td>72.0</td>\n",
       "      <td>F</td>\n",
       "      <td>76.0</td>\n",
       "      <td>1.70</td>\n",
       "      <td>Lima</td>\n",
       "      <td>Arquitecto</td>\n",
       "      <td>8500.0</td>\n",
       "      <td>26.30</td>\n",
       "    </tr>\n",
       "    <tr>\n",
       "      <th>8</th>\n",
       "      <td>Solange</td>\n",
       "      <td>25.0</td>\n",
       "      <td>F</td>\n",
       "      <td>69.0</td>\n",
       "      <td>1.69</td>\n",
       "      <td>Lima</td>\n",
       "      <td>Medico</td>\n",
       "      <td>14000.0</td>\n",
       "      <td>24.16</td>\n",
       "    </tr>\n",
       "    <tr>\n",
       "      <th>9</th>\n",
       "      <td>Diana</td>\n",
       "      <td>29.0</td>\n",
       "      <td>F</td>\n",
       "      <td>69.0</td>\n",
       "      <td>1.67</td>\n",
       "      <td>Cajamarca</td>\n",
       "      <td>Abogado</td>\n",
       "      <td>11000.0</td>\n",
       "      <td>24.74</td>\n",
       "    </tr>\n",
       "    <tr>\n",
       "      <th>10</th>\n",
       "      <td>Hermenegilda</td>\n",
       "      <td>67.0</td>\n",
       "      <td>F</td>\n",
       "      <td>80.0</td>\n",
       "      <td>1.67</td>\n",
       "      <td>Ica</td>\n",
       "      <td>Psicologo</td>\n",
       "      <td>5600.0</td>\n",
       "      <td>28.69</td>\n",
       "    </tr>\n",
       "  </tbody>\n",
       "</table>\n",
       "</div>"
      ],
      "text/plain": [
       "          Nombre  Edad Sexo  Peso  Altura     Ciudad   Profesion   Sueldo  \\\n",
       "0           José  27.0    M  70.0    1.71  Cajamarca   Ingeniero  15000.0   \n",
       "2          Juana  72.0    F  76.0    1.70       Lima  Arquitecto   8500.0   \n",
       "8        Solange  25.0    F  69.0    1.69       Lima      Medico  14000.0   \n",
       "9          Diana  29.0    F  69.0    1.67  Cajamarca     Abogado  11000.0   \n",
       "10  Hermenegilda  67.0    F  80.0    1.67        Ica   Psicologo   5600.0   \n",
       "\n",
       "      IMC  \n",
       "0   23.94  \n",
       "2   26.30  \n",
       "8   24.16  \n",
       "9   24.74  \n",
       "10  28.69  "
      ]
     },
     "execution_count": 89,
     "metadata": {},
     "output_type": "execute_result"
    }
   ],
   "source": [
    "datos[\"IMC\"]=round(datos[\"Peso\"]/(datos[\"Altura\"]**2),2)\n",
    "datos.head()"
   ]
  },
  {
   "cell_type": "code",
   "execution_count": 91,
   "metadata": {},
   "outputs": [
    {
     "data": {
      "text/html": [
       "<div>\n",
       "<style scoped>\n",
       "    .dataframe tbody tr th:only-of-type {\n",
       "        vertical-align: middle;\n",
       "    }\n",
       "\n",
       "    .dataframe tbody tr th {\n",
       "        vertical-align: top;\n",
       "    }\n",
       "\n",
       "    .dataframe thead th {\n",
       "        text-align: right;\n",
       "    }\n",
       "</style>\n",
       "<table border=\"1\" class=\"dataframe\">\n",
       "  <thead>\n",
       "    <tr style=\"text-align: right;\">\n",
       "      <th></th>\n",
       "      <th>Nombre</th>\n",
       "      <th>Edad</th>\n",
       "      <th>Sexo</th>\n",
       "      <th>Peso</th>\n",
       "      <th>Altura</th>\n",
       "      <th>Ciudad</th>\n",
       "      <th>Profesion</th>\n",
       "      <th>Sueldo</th>\n",
       "      <th>IMC</th>\n",
       "      <th>Diagnostico</th>\n",
       "    </tr>\n",
       "  </thead>\n",
       "  <tbody>\n",
       "    <tr>\n",
       "      <th>0</th>\n",
       "      <td>José</td>\n",
       "      <td>27.0</td>\n",
       "      <td>M</td>\n",
       "      <td>70.0</td>\n",
       "      <td>1.71</td>\n",
       "      <td>Cajamarca</td>\n",
       "      <td>Ingeniero</td>\n",
       "      <td>15000.0</td>\n",
       "      <td>23.94</td>\n",
       "      <td>Normal</td>\n",
       "    </tr>\n",
       "    <tr>\n",
       "      <th>2</th>\n",
       "      <td>Juana</td>\n",
       "      <td>72.0</td>\n",
       "      <td>F</td>\n",
       "      <td>76.0</td>\n",
       "      <td>1.70</td>\n",
       "      <td>Lima</td>\n",
       "      <td>Arquitecto</td>\n",
       "      <td>8500.0</td>\n",
       "      <td>26.30</td>\n",
       "      <td>Obesidad leve</td>\n",
       "    </tr>\n",
       "    <tr>\n",
       "      <th>8</th>\n",
       "      <td>Solange</td>\n",
       "      <td>25.0</td>\n",
       "      <td>F</td>\n",
       "      <td>69.0</td>\n",
       "      <td>1.69</td>\n",
       "      <td>Lima</td>\n",
       "      <td>Medico</td>\n",
       "      <td>14000.0</td>\n",
       "      <td>24.16</td>\n",
       "      <td>Obesidad leve</td>\n",
       "    </tr>\n",
       "    <tr>\n",
       "      <th>9</th>\n",
       "      <td>Diana</td>\n",
       "      <td>29.0</td>\n",
       "      <td>F</td>\n",
       "      <td>69.0</td>\n",
       "      <td>1.67</td>\n",
       "      <td>Cajamarca</td>\n",
       "      <td>Abogado</td>\n",
       "      <td>11000.0</td>\n",
       "      <td>24.74</td>\n",
       "      <td>Obesidad leve</td>\n",
       "    </tr>\n",
       "    <tr>\n",
       "      <th>10</th>\n",
       "      <td>Hermenegilda</td>\n",
       "      <td>67.0</td>\n",
       "      <td>F</td>\n",
       "      <td>80.0</td>\n",
       "      <td>1.67</td>\n",
       "      <td>Ica</td>\n",
       "      <td>Psicologo</td>\n",
       "      <td>5600.0</td>\n",
       "      <td>28.69</td>\n",
       "      <td>Obesidad leve</td>\n",
       "    </tr>\n",
       "  </tbody>\n",
       "</table>\n",
       "</div>"
      ],
      "text/plain": [
       "          Nombre  Edad Sexo  Peso  Altura     Ciudad   Profesion   Sueldo  \\\n",
       "0           José  27.0    M  70.0    1.71  Cajamarca   Ingeniero  15000.0   \n",
       "2          Juana  72.0    F  76.0    1.70       Lima  Arquitecto   8500.0   \n",
       "8        Solange  25.0    F  69.0    1.69       Lima      Medico  14000.0   \n",
       "9          Diana  29.0    F  69.0    1.67  Cajamarca     Abogado  11000.0   \n",
       "10  Hermenegilda  67.0    F  80.0    1.67        Ica   Psicologo   5600.0   \n",
       "\n",
       "      IMC    Diagnostico  \n",
       "0   23.94         Normal  \n",
       "2   26.30  Obesidad leve  \n",
       "8   24.16  Obesidad leve  \n",
       "9   24.74  Obesidad leve  \n",
       "10  28.69  Obesidad leve  "
      ]
     },
     "execution_count": 91,
     "metadata": {},
     "output_type": "execute_result"
    }
   ],
   "source": [
    "condiciones=[(datos[\"Sexo\"]==\"M\")&(datos[\"IMC\"]<20),(datos[\"Sexo\"]==\"M\")&(datos[\"IMC\"]>=20)&(datos[\"IMC\"]<25),\n",
    "             (datos[\"Sexo\"]==\"M\")&(datos[\"IMC\"]>=25)&(datos[\"IMC\"]<30),(datos[\"Sexo\"]==\"M\")&(datos[\"IMC\"]>=30)&\n",
    "             (datos[\"IMC\"]<40),(datos[\"Sexo\"]==\"M\")&(datos[\"IMC\"]>=30),\n",
    "            (datos[\"Sexo\"]==\"F\")&(datos[\"IMC\"]<20),(datos[\"Sexo\"]==\"F\")&(datos[\"IMC\"]>=20)&(datos[\"IMC\"]<24),\n",
    "             (datos[\"Sexo\"]==\"F\")&(datos[\"IMC\"]>=24)&(datos[\"IMC\"]<29),(datos[\"Sexo\"]==\"F\")&(datos[\"IMC\"]>=29)&\n",
    "             (datos[\"IMC\"]<37),(datos[\"Sexo\"]==\"F\")&(datos[\"IMC\"]>=37)]\n",
    "valores=[\"Bajo peso\",\"Normal\",\"Obesidad leve\",\"Obesidad severa\",\"Obesidad muy severa\",\n",
    "         \"Bajo peso\",\"Normal\",\"Obesidad leve\",\"Obesidad severa\",\"Obesidad muy severa\"]\n",
    "datos[\"Diagnostico\"]=np.select(condiciones,valores)\n",
    "datos.head()"
   ]
  },
  {
   "cell_type": "code",
   "execution_count": 94,
   "metadata": {},
   "outputs": [
    {
     "data": {
      "text/plain": [
       "Obesidad leve      50\n",
       "Normal             29\n",
       "Obesidad severa    10\n",
       "Bajo peso           1\n",
       "Name: Diagnostico, dtype: int64"
      ]
     },
     "execution_count": 94,
     "metadata": {},
     "output_type": "execute_result"
    }
   ],
   "source": [
    "salud=datos[\"Diagnostico\"].value_counts(normalize=False)\n",
    "salud"
   ]
  },
  {
   "cell_type": "code",
   "execution_count": 109,
   "metadata": {},
   "outputs": [
    {
     "data": {
      "text/plain": [
       "Text(0.5, 1.0, 'Estado de salud según IMC')"
      ]
     },
     "execution_count": 109,
     "metadata": {},
     "output_type": "execute_result"
    },
    {
     "data": {
      "image/png": "[encoded data removed]",
      "text/plain": [
       "<Figure size 432x288 with 1 Axes>"
      ]
     },
     "metadata": {},
     "output_type": "display_data"
    }
   ],
   "source": [
    "plt.pie(x=salud,colors=[\"dodgerblue\",\"green\",\"red\",\"yellow\"],\n",
    "        labels=[\"Obesidad leve\",\"Normal\",\"Obesidad severa\",\"Bajo peso\"],wedgeprops={\"edgecolor\":\"black\"},\n",
    "        autopct=\"%1.1f%%\",explode=[0,0,0.2,0],startangle=135,radius=1)\n",
    "plt.title(\"Estado de salud según IMC\")"
   ]
  },
  {
   "cell_type": "markdown",
   "metadata": {},
   "source": [
    "#### ¿Quienes son las personas con obesidad severa?"
   ]
  },
  {
   "cell_type": "code",
   "execution_count": 111,
   "metadata": {},
   "outputs": [
    {
     "data": {
      "text/html": [
       "<div>\n",
       "<style scoped>\n",
       "    .dataframe tbody tr th:only-of-type {\n",
       "        vertical-align: middle;\n",
       "    }\n",
       "\n",
       "    .dataframe tbody tr th {\n",
       "        vertical-align: top;\n",
       "    }\n",
       "\n",
       "    .dataframe thead th {\n",
       "        text-align: right;\n",
       "    }\n",
       "</style>\n",
       "<table border=\"1\" class=\"dataframe\">\n",
       "  <thead>\n",
       "    <tr style=\"text-align: right;\">\n",
       "      <th></th>\n",
       "      <th>Nombre</th>\n",
       "      <th>Edad</th>\n",
       "      <th>Sexo</th>\n",
       "      <th>Peso</th>\n",
       "      <th>Altura</th>\n",
       "      <th>Ciudad</th>\n",
       "      <th>Profesion</th>\n",
       "      <th>Sueldo</th>\n",
       "      <th>IMC</th>\n",
       "      <th>Diagnostico</th>\n",
       "    </tr>\n",
       "  </thead>\n",
       "  <tbody>\n",
       "    <tr>\n",
       "      <th>16</th>\n",
       "      <td>Raquel</td>\n",
       "      <td>29.0</td>\n",
       "      <td>F</td>\n",
       "      <td>83.0</td>\n",
       "      <td>1.68</td>\n",
       "      <td>Lima</td>\n",
       "      <td>Musico</td>\n",
       "      <td>2500.0</td>\n",
       "      <td>29.41</td>\n",
       "      <td>Obesidad severa</td>\n",
       "    </tr>\n",
       "    <tr>\n",
       "      <th>27</th>\n",
       "      <td>Ximena</td>\n",
       "      <td>37.0</td>\n",
       "      <td>F</td>\n",
       "      <td>82.0</td>\n",
       "      <td>1.68</td>\n",
       "      <td>Chimbote</td>\n",
       "      <td>Medico</td>\n",
       "      <td>9800.0</td>\n",
       "      <td>29.05</td>\n",
       "      <td>Obesidad severa</td>\n",
       "    </tr>\n",
       "    <tr>\n",
       "      <th>37</th>\n",
       "      <td>Simona</td>\n",
       "      <td>70.0</td>\n",
       "      <td>F</td>\n",
       "      <td>75.0</td>\n",
       "      <td>1.56</td>\n",
       "      <td>Juliaca</td>\n",
       "      <td>Musico</td>\n",
       "      <td>3200.0</td>\n",
       "      <td>30.82</td>\n",
       "      <td>Obesidad severa</td>\n",
       "    </tr>\n",
       "    <tr>\n",
       "      <th>38</th>\n",
       "      <td>Oscar</td>\n",
       "      <td>55.0</td>\n",
       "      <td>M</td>\n",
       "      <td>91.0</td>\n",
       "      <td>1.60</td>\n",
       "      <td>Juliaca</td>\n",
       "      <td>Biologo</td>\n",
       "      <td>7500.0</td>\n",
       "      <td>35.55</td>\n",
       "      <td>Obesidad severa</td>\n",
       "    </tr>\n",
       "    <tr>\n",
       "      <th>40</th>\n",
       "      <td>Ernesto</td>\n",
       "      <td>52.0</td>\n",
       "      <td>M</td>\n",
       "      <td>92.0</td>\n",
       "      <td>1.72</td>\n",
       "      <td>Chimbote</td>\n",
       "      <td>Mecanico</td>\n",
       "      <td>4520.0</td>\n",
       "      <td>31.10</td>\n",
       "      <td>Obesidad severa</td>\n",
       "    </tr>\n",
       "    <tr>\n",
       "      <th>43</th>\n",
       "      <td>Gregorio</td>\n",
       "      <td>76.0</td>\n",
       "      <td>M</td>\n",
       "      <td>90.0</td>\n",
       "      <td>1.68</td>\n",
       "      <td>Lima</td>\n",
       "      <td>Abogado</td>\n",
       "      <td>12000.0</td>\n",
       "      <td>31.89</td>\n",
       "      <td>Obesidad severa</td>\n",
       "    </tr>\n",
       "    <tr>\n",
       "      <th>60</th>\n",
       "      <td>Teobaldo</td>\n",
       "      <td>56.0</td>\n",
       "      <td>M</td>\n",
       "      <td>91.0</td>\n",
       "      <td>1.70</td>\n",
       "      <td>Lima</td>\n",
       "      <td>Arquitecto</td>\n",
       "      <td>8500.0</td>\n",
       "      <td>31.49</td>\n",
       "      <td>Obesidad severa</td>\n",
       "    </tr>\n",
       "    <tr>\n",
       "      <th>63</th>\n",
       "      <td>Lucila</td>\n",
       "      <td>60.0</td>\n",
       "      <td>F</td>\n",
       "      <td>82.0</td>\n",
       "      <td>1.67</td>\n",
       "      <td>Ica</td>\n",
       "      <td>Ingeniero</td>\n",
       "      <td>8900.0</td>\n",
       "      <td>29.40</td>\n",
       "      <td>Obesidad severa</td>\n",
       "    </tr>\n",
       "    <tr>\n",
       "      <th>83</th>\n",
       "      <td>Cristhel</td>\n",
       "      <td>27.0</td>\n",
       "      <td>F</td>\n",
       "      <td>85.0</td>\n",
       "      <td>1.71</td>\n",
       "      <td>Chimbote</td>\n",
       "      <td>Ingeniero</td>\n",
       "      <td>5600.0</td>\n",
       "      <td>29.07</td>\n",
       "      <td>Obesidad severa</td>\n",
       "    </tr>\n",
       "    <tr>\n",
       "      <th>91</th>\n",
       "      <td>Madeleine</td>\n",
       "      <td>68.0</td>\n",
       "      <td>F</td>\n",
       "      <td>92.0</td>\n",
       "      <td>1.68</td>\n",
       "      <td>Lima</td>\n",
       "      <td>Abogado</td>\n",
       "      <td>11000.0</td>\n",
       "      <td>32.60</td>\n",
       "      <td>Obesidad severa</td>\n",
       "    </tr>\n",
       "  </tbody>\n",
       "</table>\n",
       "</div>"
      ],
      "text/plain": [
       "       Nombre  Edad Sexo  Peso  Altura    Ciudad   Profesion   Sueldo    IMC  \\\n",
       "16     Raquel  29.0    F  83.0    1.68      Lima      Musico   2500.0  29.41   \n",
       "27     Ximena  37.0    F  82.0    1.68  Chimbote      Medico   9800.0  29.05   \n",
       "37     Simona  70.0    F  75.0    1.56   Juliaca      Musico   3200.0  30.82   \n",
       "38      Oscar  55.0    M  91.0    1.60   Juliaca     Biologo   7500.0  35.55   \n",
       "40    Ernesto  52.0    M  92.0    1.72  Chimbote    Mecanico   4520.0  31.10   \n",
       "43   Gregorio  76.0    M  90.0    1.68      Lima     Abogado  12000.0  31.89   \n",
       "60   Teobaldo  56.0    M  91.0    1.70      Lima  Arquitecto   8500.0  31.49   \n",
       "63     Lucila  60.0    F  82.0    1.67       Ica   Ingeniero   8900.0  29.40   \n",
       "83   Cristhel  27.0    F  85.0    1.71  Chimbote   Ingeniero   5600.0  29.07   \n",
       "91  Madeleine  68.0    F  92.0    1.68      Lima     Abogado  11000.0  32.60   \n",
       "\n",
       "        Diagnostico  \n",
       "16  Obesidad severa  \n",
       "27  Obesidad severa  \n",
       "37  Obesidad severa  \n",
       "38  Obesidad severa  \n",
       "40  Obesidad severa  \n",
       "43  Obesidad severa  \n",
       "60  Obesidad severa  \n",
       "63  Obesidad severa  \n",
       "83  Obesidad severa  \n",
       "91  Obesidad severa  "
      ]
     },
     "execution_count": 111,
     "metadata": {},
     "output_type": "execute_result"
    }
   ],
   "source": [
    "datos[(datos[\"Diagnostico\"]==\"Obesidad severa\")]"
   ]
  },
  {
   "cell_type": "markdown",
   "metadata": {},
   "source": [
    "#### ¿Cuál es la ciudad con más personas obesas? Se considerarán como obesas a las personas con diagnóstico \"Obesidad leve\",\"Obesidad severa\" y \"Obesidad muy severa\""
   ]
  },
  {
   "cell_type": "code",
   "execution_count": 113,
   "metadata": {},
   "outputs": [
    {
     "data": {
      "text/plain": [
       "Lima              11\n",
       "Huaraz             8\n",
       "Cajamarca          7\n",
       "Juliaca            7\n",
       "Arequipa           6\n",
       "Chimbote           6\n",
       "Cerro de Pasco     6\n",
       "Ica                5\n",
       "Tarapoto           4\n",
       "Name: Ciudad, dtype: int64"
      ]
     },
     "execution_count": 113,
     "metadata": {},
     "output_type": "execute_result"
    }
   ],
   "source": [
    "obesos=datos[(datos[\"Diagnostico\"]==\"Obesidad leve\")|(datos[\"Diagnostico\"]==\"Obesidad severa\")|\n",
    "             (datos[\"Diagnostico\"]==\"Obesidad muy severa\")]\n",
    "obesos[\"Ciudad\"].value_counts(normalize=False)"
   ]
  },
  {
   "cell_type": "markdown",
   "metadata": {},
   "source": [
    "#### ¿Son los hombres o las mujeres las personas más saludables? Se considera como saludable a una persona con diagnóstico \"Normal\""
   ]
  },
  {
   "cell_type": "code",
   "execution_count": 115,
   "metadata": {},
   "outputs": [
    {
     "data": {
      "text/plain": [
       "F    17\n",
       "M    12\n",
       "Name: Sexo, dtype: int64"
      ]
     },
     "execution_count": 115,
     "metadata": {},
     "output_type": "execute_result"
    }
   ],
   "source": [
    "datos[(datos[\"Diagnostico\"]==\"Normal\")][\"Sexo\"].value_counts(normalize=False)"
   ]
  },
  {
   "cell_type": "markdown",
   "metadata": {},
   "source": [
    "#### Respuesta: Las mujeres son más saludables que los hombres"
   ]
  },
  {
   "cell_type": "markdown",
   "metadata": {},
   "source": [
    "#### ¿Donde se encuentran las personas más saludables? Se considera a una persona como saludable a aquella con diagnóstico \"Normal\""
   ]
  },
  {
   "cell_type": "code",
   "execution_count": 117,
   "metadata": {},
   "outputs": [
    {
     "data": {
      "text/plain": [
       "Lima              9\n",
       "Tarapoto          4\n",
       "Huaraz            4\n",
       "Cajamarca         3\n",
       "Ica               3\n",
       "Arequipa          2\n",
       "Cerro de Pasco    2\n",
       "Juliaca           1\n",
       "Chimbote          1\n",
       "Name: Ciudad, dtype: int64"
      ]
     },
     "execution_count": 117,
     "metadata": {},
     "output_type": "execute_result"
    }
   ],
   "source": [
    "datos[(datos[\"Diagnostico\"]==\"Normal\")][\"Ciudad\"].value_counts(normalize=False)"
   ]
  },
  {
   "cell_type": "markdown",
   "metadata": {},
   "source": [
    "### Comparación de los sueldos por género: hombres vs. mujeres"
   ]
  },
  {
   "cell_type": "code",
   "execution_count": 119,
   "metadata": {},
   "outputs": [
    {
     "data": {
      "text/plain": [
       "Text(0, 0.5, 'Monto (PEN/mes)')"
      ]
     },
     "execution_count": 119,
     "metadata": {},
     "output_type": "execute_result"
    },
    {
     "data": {
      "image/png": "[encoded data removed]",
      "text/plain": [
       "<Figure size 432x288 with 1 Axes>"
      ]
     },
     "metadata": {
      "needs_background": "light"
     },
     "output_type": "display_data"
    }
   ],
   "source": [
    "sueldos_hombres=datos[(datos[\"Sexo\"]==\"M\")][\"Sueldo\"]\n",
    "sueldos_mujeres=datos[(datos[\"Sexo\"]==\"F\")][\"Sueldo\"]\n",
    "plt.boxplot(x=[sueldos_hombres,sueldos_mujeres],labels=[\"Hombres\",\"Mujeres\"],whis=1.5,vert=True)\n",
    "plt.ylabel(\"Monto (PEN/mes)\")"
   ]
  },
  {
   "cell_type": "markdown",
   "metadata": {},
   "source": [
    "#### Comparación de sueldos por profesión"
   ]
  },
  {
   "cell_type": "code",
   "execution_count": 120,
   "metadata": {},
   "outputs": [
    {
     "data": {
      "text/plain": [
       "Ingeniero     17\n",
       "Medico        13\n",
       "Arquitecto    10\n",
       "Musico         9\n",
       "Abogado        9\n",
       "Biologo        8\n",
       "Psicologo      7\n",
       "Mecanico       7\n",
       "Economista     5\n",
       "Publicista     5\n",
       "Name: Profesion, dtype: int64"
      ]
     },
     "execution_count": 120,
     "metadata": {},
     "output_type": "execute_result"
    }
   ],
   "source": [
    "datos[\"Profesion\"].value_counts(normalize=False)"
   ]
  },
  {
   "cell_type": "code",
   "execution_count": 124,
   "metadata": {},
   "outputs": [
    {
     "data": {
      "text/plain": [
       "Text(0, 0.5, 'Monto (PEN/mes)')"
      ]
     },
     "execution_count": 124,
     "metadata": {},
     "output_type": "execute_result"
    },
    {
     "data": {
      "image/png": "[encoded data removed]",
      "text/plain": [
       "<Figure size 432x288 with 1 Axes>"
      ]
     },
     "metadata": {
      "needs_background": "light"
     },
     "output_type": "display_data"
    }
   ],
   "source": [
    "sueldo_ing=datos[(datos[\"Profesion\"]==\"Ingeniero\")][\"Sueldo\"]\n",
    "sueldo_med=datos[(datos[\"Profesion\"]==\"Medico\")][\"Sueldo\"]\n",
    "sueldo_arq=datos[(datos[\"Profesion\"]==\"Arquitecto\")][\"Sueldo\"]\n",
    "sueldo_mus=datos[(datos[\"Profesion\"]==\"Musico\")][\"Sueldo\"]\n",
    "sueldo_abg=datos[(datos[\"Profesion\"]==\"Abogado\")][\"Sueldo\"]\n",
    "sueldo_bio=datos[(datos[\"Profesion\"]==\"Biologo\")][\"Sueldo\"]\n",
    "sueldo_psi=datos[(datos[\"Profesion\"]==\"Psicologo\")][\"Sueldo\"]\n",
    "sueldo_mec=datos[(datos[\"Profesion\"]==\"Mecanico\")][\"Sueldo\"]\n",
    "sueldo_eco=datos[(datos[\"Profesion\"]==\"Economista\")][\"Sueldo\"]\n",
    "sueldo_pub=datos[(datos[\"Profesion\"]==\"Publicista\")][\"Sueldo\"]\n",
    "\n",
    "plt.boxplot(x=[sueldo_ing,sueldo_med,sueldo_arq,sueldo_mus,sueldo_abg,sueldo_bio,sueldo_psi],\n",
    "           labels=[\"Ingeniero\",\"Medico\",\"Arquitecto\",\"Musico\",\"Abogado\",\"Biologo\",\"Psicologo\"],whis=1.5,vert=True)\n",
    "plt.title(\"Comparación de sueldos por profesión\")\n",
    "plt.ylabel(\"Monto (PEN/mes)\")"
   ]
  },
  {
   "cell_type": "markdown",
   "metadata": {},
   "source": [
    "#### ¿Quiénes son los ingenieros con sueldos atípicos altos?"
   ]
  },
  {
   "cell_type": "code",
   "execution_count": 126,
   "metadata": {},
   "outputs": [
    {
     "data": {
      "text/html": [
       "<div>\n",
       "<style scoped>\n",
       "    .dataframe tbody tr th:only-of-type {\n",
       "        vertical-align: middle;\n",
       "    }\n",
       "\n",
       "    .dataframe tbody tr th {\n",
       "        vertical-align: top;\n",
       "    }\n",
       "\n",
       "    .dataframe thead th {\n",
       "        text-align: right;\n",
       "    }\n",
       "</style>\n",
       "<table border=\"1\" class=\"dataframe\">\n",
       "  <thead>\n",
       "    <tr style=\"text-align: right;\">\n",
       "      <th></th>\n",
       "      <th>Nombre</th>\n",
       "      <th>Edad</th>\n",
       "      <th>Sexo</th>\n",
       "      <th>Peso</th>\n",
       "      <th>Altura</th>\n",
       "      <th>Ciudad</th>\n",
       "      <th>Profesion</th>\n",
       "      <th>Sueldo</th>\n",
       "      <th>IMC</th>\n",
       "      <th>Diagnostico</th>\n",
       "    </tr>\n",
       "  </thead>\n",
       "  <tbody>\n",
       "    <tr>\n",
       "      <th>0</th>\n",
       "      <td>José</td>\n",
       "      <td>27.0</td>\n",
       "      <td>M</td>\n",
       "      <td>70.0</td>\n",
       "      <td>1.71</td>\n",
       "      <td>Cajamarca</td>\n",
       "      <td>Ingeniero</td>\n",
       "      <td>15000.0</td>\n",
       "      <td>23.94</td>\n",
       "      <td>Normal</td>\n",
       "    </tr>\n",
       "    <tr>\n",
       "      <th>71</th>\n",
       "      <td>Cecilia</td>\n",
       "      <td>50.0</td>\n",
       "      <td>F</td>\n",
       "      <td>72.0</td>\n",
       "      <td>1.79</td>\n",
       "      <td>Juliaca</td>\n",
       "      <td>Ingeniero</td>\n",
       "      <td>15200.0</td>\n",
       "      <td>22.47</td>\n",
       "      <td>Normal</td>\n",
       "    </tr>\n",
       "    <tr>\n",
       "      <th>92</th>\n",
       "      <td>Dario</td>\n",
       "      <td>55.0</td>\n",
       "      <td>M</td>\n",
       "      <td>80.0</td>\n",
       "      <td>1.75</td>\n",
       "      <td>Ica</td>\n",
       "      <td>Ingeniero</td>\n",
       "      <td>14200.0</td>\n",
       "      <td>26.12</td>\n",
       "      <td>Obesidad leve</td>\n",
       "    </tr>\n",
       "  </tbody>\n",
       "</table>\n",
       "</div>"
      ],
      "text/plain": [
       "     Nombre  Edad Sexo  Peso  Altura     Ciudad  Profesion   Sueldo    IMC  \\\n",
       "0      José  27.0    M  70.0    1.71  Cajamarca  Ingeniero  15000.0  23.94   \n",
       "71  Cecilia  50.0    F  72.0    1.79    Juliaca  Ingeniero  15200.0  22.47   \n",
       "92    Dario  55.0    M  80.0    1.75        Ica  Ingeniero  14200.0  26.12   \n",
       "\n",
       "      Diagnostico  \n",
       "0          Normal  \n",
       "71         Normal  \n",
       "92  Obesidad leve  "
      ]
     },
     "execution_count": 126,
     "metadata": {},
     "output_type": "execute_result"
    }
   ],
   "source": [
    "p25=datos[(datos[\"Profesion\"]==\"Ingeniero\")][\"Sueldo\"].quantile(q=0.25)\n",
    "p50=datos[(datos[\"Profesion\"]==\"Ingeniero\")][\"Sueldo\"].quantile(q=0.5)\n",
    "p75=datos[(datos[\"Profesion\"]==\"Ingeniero\")][\"Sueldo\"].quantile(q=0.75)\n",
    "ri=p75-p25\n",
    "ls=p75+1.5*ri\n",
    "datos[(datos[\"Profesion\"]==\"Ingeniero\")&(datos[\"Sueldo\"]>ls)]"
   ]
  },
  {
   "cell_type": "markdown",
   "metadata": {},
   "source": [
    "#### Se pasa el DataFrame a un archivo .csv con el método .to_csv()"
   ]
  },
  {
   "cell_type": "code",
   "execution_count": 127,
   "metadata": {},
   "outputs": [],
   "source": [
    "datos.to_csv(\"encuesta.csv\")"
   ]
  }
 ],
 "metadata": {
  "kernelspec": {
   "display_name": "Python 3",
   "language": "python",
   "name": "python3"
  },
  "language_info": {
   "codemirror_mode": {
    "name": "ipython",
    "version": 3
   },
   "file_extension": ".py",
   "mimetype": "text/x-python",
   "name": "python",
   "nbconvert_exporter": "python",
   "pygments_lexer": "ipython3",
   "version": "3.8.3"
  }
 },
 "nbformat": 4,
 "nbformat_minor": 4
}
